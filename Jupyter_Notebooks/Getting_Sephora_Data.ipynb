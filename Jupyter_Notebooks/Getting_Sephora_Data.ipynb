{
 "cells": [
  {
   "cell_type": "code",
   "execution_count": 1,
   "metadata": {},
   "outputs": [],
   "source": [
    "from bs4 import BeautifulSoup as BS\n",
    "from selenium import webdriver\n",
    "import time\n",
    "from selenium.webdriver.chrome.options import Options\n",
    "from selenium.webdriver.support.ui import Select\n",
    "import pandas as pd\n",
    "import seaborn as sns\n",
    "import matplotlib.pyplot as plt\n",
    "%matplotlib inline\n",
    "import numpy as np"
   ]
  },
  {
   "cell_type": "code",
   "execution_count": 2,
   "metadata": {},
   "outputs": [],
   "source": [
    "from selenium import webdriver\n",
    "chrome_path = r\"/Users/agorina/Downloads/chromedriver\"\n",
    "driver = webdriver.Chrome(chrome_path)"
   ]
  },
  {
   "cell_type": "code",
   "execution_count": null,
   "metadata": {},
   "outputs": [],
   "source": [
    "#grab url and manually scroll to the bottom\n",
    "url = 'https://www.sephora.com/beauty/allure-best-beauty?icid2=meganav_new_allure_link'\n",
    "driver.get(url)"
   ]
  },
  {
   "cell_type": "code",
   "execution_count": null,
   "metadata": {},
   "outputs": [],
   "source": [
    "#create a function the outputs the list of links\n",
    "def list_of_links():\n",
    "    links = []\n",
    "    hrefs = driver.find_elements_by_class_name(\"css-ix8km1\")\n",
    "    for x in hrefs:\n",
    "        try:\n",
    "            link = x.get_attribute('href')\n",
    "            links.append(link)\n",
    "        except:\n",
    "            links.append('')\n",
    "            \n",
    "    return links"
   ]
  },
  {
   "cell_type": "code",
   "execution_count": null,
   "metadata": {},
   "outputs": [],
   "source": [
    "flat_link_list = [item for sublist in links for item in sublist]"
   ]
  },
  {
   "cell_type": "code",
   "execution_count": null,
   "metadata": {},
   "outputs": [],
   "source": [
    "df_links = pd.DataFrame(flat_link_list)\n",
    "df_links.to_csv(r'/Users/agorina/Desktop/Flatiron/links_list_sephora.csv')"
   ]
  },
  {
   "cell_type": "markdown",
   "metadata": {},
   "source": [
    "The function below tries to gather the information from all the links, and if the window closes or any other error is raised, it breaks out of the loop, saves what it already got and gives a number of iterations it performed right before crashing"
   ]
  },
  {
   "cell_type": "code",
   "execution_count": null,
   "metadata": {},
   "outputs": [],
   "source": [
    "def parse_beauty_cat(links_list):\n",
    "    brand = []\n",
    "    product = []\n",
    "    price = []\n",
    "    rating = []\n",
    "    reviews = []\n",
    "  \n",
    "    for link in range(len(links_list)):\n",
    "        try:\n",
    "            driver.get(links_list[link])\n",
    "            \n",
    "            #brand\n",
    "            b = driver.find_element_by_class_name('css-euydo4')\n",
    "            brand.append(b.text)\n",
    "\n",
    "            #product\n",
    "            z = driver.find_element_by_class_name(\"css-140z8k4 \")\n",
    "            p = z.find_elements_by_css_selector('span')[1]\n",
    "            product.append(p.text)\n",
    "\n",
    "            #price\n",
    "            pr = driver.find_element_by_class_name('css-slwsq8 ')\n",
    "            price.append(pr.text)\n",
    "\n",
    "            #rating\n",
    "            r = driver.find_elements_by_class_name('css-2rg6q7')[1]\n",
    "            rating.append(r.text)\n",
    "\n",
    "            #reviews\n",
    "            rev = driver.find_elements_by_class_name('css-2rg6q7')[0]\n",
    "            reviews.append(rev.text)\n",
    "            \n",
    "            time.sleep(1)\n",
    "            \n",
    "        except:\n",
    "            print(link)\n",
    "            break\n",
    "\n",
    "        \n",
    "    big_table = pd.DataFrame()\n",
    "    big_table[\"Brand\"] = brand\n",
    "    big_table[\"Product\"] = product\n",
    "    big_table[\"Price\"] = price\n",
    "    big_table[\"Rating\"] = rating\n",
    "    big_table[\"Reviews\"] = reviews\n",
    "    \n",
    "    big_table.to_csv(f'/Users/agorina/Desktop/Flatiron/allure_sephora_table{str(link)}.csv')\n",
    "\n",
    "    return big_table"
   ]
  }
 ],
 "metadata": {
  "kernelspec": {
   "display_name": "Python 3",
   "language": "python",
   "name": "python3"
  },
  "language_info": {
   "codemirror_mode": {
    "name": "ipython",
    "version": 3
   },
   "file_extension": ".py",
   "mimetype": "text/x-python",
   "name": "python",
   "nbconvert_exporter": "python",
   "pygments_lexer": "ipython3",
   "version": "3.6.5"
  }
 },
 "nbformat": 4,
 "nbformat_minor": 2
}
