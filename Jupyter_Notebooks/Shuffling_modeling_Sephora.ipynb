{
 "cells": [
  {
   "cell_type": "code",
   "execution_count": 35,
   "metadata": {},
   "outputs": [],
   "source": [
    "import pandas as pd\n",
    "import seaborn as sns\n",
    "import matplotlib.pyplot as plt\n",
    "%matplotlib inline\n",
    "import numpy as np\n",
    "import statsmodels.api as sm\n",
    "from statsmodels.formula.api import ols\n",
    "from scipy.stats import zscore\n",
    "import sklearn\n",
    "import seaborn as sns\n",
    "import warnings\n",
    "warnings.filterwarnings('ignore')\n",
    "from sklearn.model_selection import train_test_split \n",
    "from sklearn.linear_model import LogisticRegression\n",
    "from sklearn import metrics\n",
    "from sklearn.metrics import confusion_matrix\n",
    "import imblearn\n",
    "from xgboost import XGBClassifier\n",
    "from imblearn.under_sampling import RandomUnderSampler\n",
    "from imblearn.over_sampling import RandomOverSampler\n",
    "from imblearn.under_sampling import TomekLinks\n",
    "from imblearn.combine import SMOTETomek\n",
    "from sklearn.tree import DecisionTreeClassifier\n",
    "from imblearn.over_sampling import SMOTE\n",
    "from sklearn.metrics import classification_report\n",
    "from sklearn.preprocessing import StandardScaler\n",
    "from sklearn.metrics import accuracy_score\n",
    "from sklearn.model_selection import GridSearchCV\n",
    "from sklearn.naive_bayes import GaussianNB\n",
    "from sklearn.utils import shuffle\n",
    "from sklearn.neighbors import KNeighborsClassifier"
   ]
  },
  {
   "cell_type": "code",
   "execution_count": 2,
   "metadata": {},
   "outputs": [],
   "source": [
    "plt.rcParams[\"figure.figsize\"] = [10,5]"
   ]
  },
  {
   "cell_type": "markdown",
   "metadata": {},
   "source": [
    "Since manually shuffling the rows significantly improved the performance of my model, I will do it again to figure out whether or not it will improve everything again. I will take my raw data as my baseline."
   ]
  },
  {
   "cell_type": "markdown",
   "metadata": {},
   "source": [
    "# XGBoost and Naive Bayes on data-as-is"
   ]
  },
  {
   "cell_type": "code",
   "execution_count": 3,
   "metadata": {
    "scrolled": true
   },
   "outputs": [
    {
     "data": {
      "text/html": [
       "<div>\n",
       "<style scoped>\n",
       "    .dataframe tbody tr th:only-of-type {\n",
       "        vertical-align: middle;\n",
       "    }\n",
       "\n",
       "    .dataframe tbody tr th {\n",
       "        vertical-align: top;\n",
       "    }\n",
       "\n",
       "    .dataframe thead th {\n",
       "        text-align: right;\n",
       "    }\n",
       "</style>\n",
       "<table border=\"1\" class=\"dataframe\">\n",
       "  <thead>\n",
       "    <tr style=\"text-align: right;\">\n",
       "      <th></th>\n",
       "      <th>Brand</th>\n",
       "      <th>Product</th>\n",
       "      <th>Price</th>\n",
       "      <th>Reviews_Count</th>\n",
       "      <th>Hearts</th>\n",
       "      <th>Clean</th>\n",
       "      <th>Allure</th>\n",
       "    </tr>\n",
       "  </thead>\n",
       "  <tbody>\n",
       "    <tr>\n",
       "      <th>0</th>\n",
       "      <td>ARMANI BEAUTY</td>\n",
       "      <td>Lip Maestro Liquid Lipstick</td>\n",
       "      <td>38.0</td>\n",
       "      <td>1000.0</td>\n",
       "      <td>171.7</td>\n",
       "      <td>0</td>\n",
       "      <td>1</td>\n",
       "    </tr>\n",
       "    <tr>\n",
       "      <th>1</th>\n",
       "      <td>CHARLOTTE TILBURY</td>\n",
       "      <td>Matte Revolution Lipstick</td>\n",
       "      <td>34.0</td>\n",
       "      <td>719.0</td>\n",
       "      <td>135.3</td>\n",
       "      <td>0</td>\n",
       "      <td>0</td>\n",
       "    </tr>\n",
       "    <tr>\n",
       "      <th>2</th>\n",
       "      <td>TATCHA</td>\n",
       "      <td>The Kissu Lip Mask</td>\n",
       "      <td>28.0</td>\n",
       "      <td>262.0</td>\n",
       "      <td>41.3</td>\n",
       "      <td>1</td>\n",
       "      <td>0</td>\n",
       "    </tr>\n",
       "    <tr>\n",
       "      <th>3</th>\n",
       "      <td>GIVENCHY</td>\n",
       "      <td>Le Rouge Lipstick</td>\n",
       "      <td>38.0</td>\n",
       "      <td>640.0</td>\n",
       "      <td>111.2</td>\n",
       "      <td>0</td>\n",
       "      <td>0</td>\n",
       "    </tr>\n",
       "    <tr>\n",
       "      <th>4</th>\n",
       "      <td>NARS</td>\n",
       "      <td>Velvet Matte Lipstick Pencil</td>\n",
       "      <td>27.0</td>\n",
       "      <td>5000.0</td>\n",
       "      <td>350.4</td>\n",
       "      <td>0</td>\n",
       "      <td>0</td>\n",
       "    </tr>\n",
       "  </tbody>\n",
       "</table>\n",
       "</div>"
      ],
      "text/plain": [
       "               Brand                       Product  Price  Reviews_Count  \\\n",
       "0      ARMANI BEAUTY   Lip Maestro Liquid Lipstick   38.0         1000.0   \n",
       "1  CHARLOTTE TILBURY     Matte Revolution Lipstick   34.0          719.0   \n",
       "2             TATCHA            The Kissu Lip Mask   28.0          262.0   \n",
       "3           GIVENCHY             Le Rouge Lipstick   38.0          640.0   \n",
       "4               NARS  Velvet Matte Lipstick Pencil   27.0         5000.0   \n",
       "\n",
       "   Hearts  Clean  Allure  \n",
       "0   171.7      0       1  \n",
       "1   135.3      0       0  \n",
       "2    41.3      1       0  \n",
       "3   111.2      0       0  \n",
       "4   350.4      0       0  "
      ]
     },
     "execution_count": 3,
     "metadata": {},
     "output_type": "execute_result"
    }
   ],
   "source": [
    "df = pd.read_csv('/Users/agorina/Desktop/Flatiron/Sephora_Classification/Data/True_Final_Sephora.csv')\n",
    "df.head()"
   ]
  },
  {
   "cell_type": "code",
   "execution_count": 4,
   "metadata": {},
   "outputs": [],
   "source": [
    "X = df[['Price', 'Reviews_Count', 'Hearts', 'Clean']]\n",
    "y = df['Allure']"
   ]
  },
  {
   "cell_type": "code",
   "execution_count": 5,
   "metadata": {},
   "outputs": [],
   "source": [
    "X_train, X_test, y_train, y_test = train_test_split(X, y, random_state=42)"
   ]
  },
  {
   "cell_type": "code",
   "execution_count": 6,
   "metadata": {},
   "outputs": [
    {
     "name": "stdout",
     "output_type": "stream",
     "text": [
      "Training Accuracy: 95.87%\n",
      "Validation accuracy: 96.6%\n"
     ]
    }
   ],
   "source": [
    "clf = XGBClassifier()\n",
    "clf.fit(X, y)\n",
    "\n",
    "training_preds = clf.predict(X_train)\n",
    "test_preds = clf.predict(X_test)\n",
    "\n",
    "training_accuracy = accuracy_score(y_train, training_preds)\n",
    "test_accuracy = accuracy_score(y_test, test_preds)\n",
    "\n",
    "print('Training Accuracy: {:.4}%'.format(training_accuracy * 100))\n",
    "print('Validation accuracy: {:.4}%'.format(test_accuracy * 100))"
   ]
  },
  {
   "cell_type": "code",
   "execution_count": 7,
   "metadata": {},
   "outputs": [
    {
     "name": "stdout",
     "output_type": "stream",
     "text": [
      "              precision    recall  f1-score   support\n",
      "\n",
      "           0       0.97      1.00      0.98       482\n",
      "           1       1.00      0.06      0.11        18\n",
      "\n",
      "    accuracy                           0.97       500\n",
      "   macro avg       0.98      0.53      0.54       500\n",
      "weighted avg       0.97      0.97      0.95       500\n",
      "\n"
     ]
    }
   ],
   "source": [
    "print(classification_report(y_test, test_preds))"
   ]
  },
  {
   "cell_type": "code",
   "execution_count": 8,
   "metadata": {},
   "outputs": [
    {
     "name": "stdout",
     "output_type": "stream",
     "text": [
      "[[482   0]\n",
      " [ 17   1]]\n"
     ]
    }
   ],
   "source": [
    "print(metrics.confusion_matrix(y_test, test_preds))"
   ]
  },
  {
   "cell_type": "code",
   "execution_count": 9,
   "metadata": {},
   "outputs": [
    {
     "name": "stdout",
     "output_type": "stream",
     "text": [
      "Number of mislabeled points out of a total 500 points : 37\n"
     ]
    }
   ],
   "source": [
    "gnb = GaussianNB()\n",
    "y_pred = gnb.fit(X_train, y_train).predict(X_test)\n",
    "print(\"Number of mislabeled points out of a total %d points : %d\" \n",
    "      % (X_test.shape[0], (y_test != y_pred).sum()))"
   ]
  },
  {
   "cell_type": "markdown",
   "metadata": {},
   "source": [
    "Bad model! Just assumes that everything is 0, ignoring the underrepresented class. Bad, bad, naughty model!"
   ]
  },
  {
   "cell_type": "markdown",
   "metadata": {},
   "source": [
    "# Shuffling"
   ]
  },
  {
   "cell_type": "code",
   "execution_count": 10,
   "metadata": {},
   "outputs": [],
   "source": [
    "#split original data into two parts: winners and losers\n",
    "df_lose = df[df['Allure'] == 0]\n",
    "df_win = df[df['Allure'] == 1]"
   ]
  },
  {
   "cell_type": "code",
   "execution_count": 11,
   "metadata": {},
   "outputs": [],
   "source": [
    "#shuffle the rows of the losing df\n",
    "df_lose = shuffle(df_lose)"
   ]
  },
  {
   "cell_type": "code",
   "execution_count": 12,
   "metadata": {},
   "outputs": [],
   "source": [
    "#crop the losers df so it matches the shape of the winning df\n",
    "df_lose_81 = df_lose[:81]"
   ]
  },
  {
   "cell_type": "code",
   "execution_count": 13,
   "metadata": {},
   "outputs": [
    {
     "data": {
      "text/html": [
       "<div>\n",
       "<style scoped>\n",
       "    .dataframe tbody tr th:only-of-type {\n",
       "        vertical-align: middle;\n",
       "    }\n",
       "\n",
       "    .dataframe tbody tr th {\n",
       "        vertical-align: top;\n",
       "    }\n",
       "\n",
       "    .dataframe thead th {\n",
       "        text-align: right;\n",
       "    }\n",
       "</style>\n",
       "<table border=\"1\" class=\"dataframe\">\n",
       "  <thead>\n",
       "    <tr style=\"text-align: right;\">\n",
       "      <th></th>\n",
       "      <th>Brand</th>\n",
       "      <th>Product</th>\n",
       "      <th>Price</th>\n",
       "      <th>Reviews_Count</th>\n",
       "      <th>Hearts</th>\n",
       "      <th>Clean</th>\n",
       "      <th>Allure</th>\n",
       "    </tr>\n",
       "  </thead>\n",
       "  <tbody>\n",
       "    <tr>\n",
       "      <th>11</th>\n",
       "      <td>BENEFIT COSMETICS</td>\n",
       "      <td>Gimme Brow+ Volumizing Eyebrow Gel</td>\n",
       "      <td>24.0</td>\n",
       "      <td>4000.0</td>\n",
       "      <td>168.2</td>\n",
       "      <td>0</td>\n",
       "      <td>1</td>\n",
       "    </tr>\n",
       "    <tr>\n",
       "      <th>148</th>\n",
       "      <td>BIOSSANCE</td>\n",
       "      <td>Squalane + Antioxidant Cleansing Oil</td>\n",
       "      <td>30.0</td>\n",
       "      <td>308.0</td>\n",
       "      <td>21.3</td>\n",
       "      <td>1</td>\n",
       "      <td>0</td>\n",
       "    </tr>\n",
       "    <tr>\n",
       "      <th>1</th>\n",
       "      <td>ESTÉE LAUDER</td>\n",
       "      <td>Double Wear Stay-in-Place Foundation</td>\n",
       "      <td>43.0</td>\n",
       "      <td>5000.0</td>\n",
       "      <td>397.9</td>\n",
       "      <td>0</td>\n",
       "      <td>1</td>\n",
       "    </tr>\n",
       "    <tr>\n",
       "      <th>49</th>\n",
       "      <td>SEPHORA COLLECTION</td>\n",
       "      <td>PRO Angled Liner Brush #22</td>\n",
       "      <td>16.0</td>\n",
       "      <td>258.0</td>\n",
       "      <td>11.4</td>\n",
       "      <td>0</td>\n",
       "      <td>1</td>\n",
       "    </tr>\n",
       "    <tr>\n",
       "      <th>111</th>\n",
       "      <td>DIOR</td>\n",
       "      <td>Rouge Dior Ultra Rouge Lipstick</td>\n",
       "      <td>38.0</td>\n",
       "      <td>83.0</td>\n",
       "      <td>30.6</td>\n",
       "      <td>0</td>\n",
       "      <td>0</td>\n",
       "    </tr>\n",
       "  </tbody>\n",
       "</table>\n",
       "</div>"
      ],
      "text/plain": [
       "                  Brand                               Product  Price  \\\n",
       "11    BENEFIT COSMETICS    Gimme Brow+ Volumizing Eyebrow Gel   24.0   \n",
       "148           BIOSSANCE  Squalane + Antioxidant Cleansing Oil   30.0   \n",
       "1          ESTÉE LAUDER  Double Wear Stay-in-Place Foundation   43.0   \n",
       "49   SEPHORA COLLECTION            PRO Angled Liner Brush #22   16.0   \n",
       "111                DIOR       Rouge Dior Ultra Rouge Lipstick   38.0   \n",
       "\n",
       "     Reviews_Count  Hearts  Clean  Allure  \n",
       "11          4000.0   168.2      0       1  \n",
       "148          308.0    21.3      1       0  \n",
       "1           5000.0   397.9      0       1  \n",
       "49           258.0    11.4      0       1  \n",
       "111           83.0    30.6      0       0  "
      ]
     },
     "execution_count": 13,
     "metadata": {},
     "output_type": "execute_result"
    }
   ],
   "source": [
    "#put two df together so we get a df of two equally represented classes\n",
    "twodf = [df_win, df_lose_81]\n",
    "edf = pd.concat(twodf, ignore_index=True)\n",
    "\n",
    "#shuffle them again!\n",
    "edf = shuffle(edf)\n",
    "edf.head()"
   ]
  },
  {
   "cell_type": "code",
   "execution_count": 14,
   "metadata": {},
   "outputs": [
    {
     "data": {
      "text/plain": [
       "1    81\n",
       "0    81\n",
       "Name: Allure, dtype: int64"
      ]
     },
     "execution_count": 14,
     "metadata": {},
     "output_type": "execute_result"
    }
   ],
   "source": [
    "edf.Allure.value_counts()\n",
    "#see, equally represented"
   ]
  },
  {
   "cell_type": "code",
   "execution_count": 15,
   "metadata": {},
   "outputs": [
    {
     "data": {
      "text/plain": [
       "(162, 7)"
      ]
     },
     "execution_count": 15,
     "metadata": {},
     "output_type": "execute_result"
    }
   ],
   "source": [
    "edf.shape"
   ]
  },
  {
   "cell_type": "code",
   "execution_count": 16,
   "metadata": {},
   "outputs": [
    {
     "data": {
      "text/html": [
       "<div>\n",
       "<style scoped>\n",
       "    .dataframe tbody tr th:only-of-type {\n",
       "        vertical-align: middle;\n",
       "    }\n",
       "\n",
       "    .dataframe tbody tr th {\n",
       "        vertical-align: top;\n",
       "    }\n",
       "\n",
       "    .dataframe thead tr th {\n",
       "        text-align: left;\n",
       "    }\n",
       "\n",
       "    .dataframe thead tr:last-of-type th {\n",
       "        text-align: right;\n",
       "    }\n",
       "</style>\n",
       "<table border=\"1\" class=\"dataframe\">\n",
       "  <thead>\n",
       "    <tr>\n",
       "      <th></th>\n",
       "      <th colspan=\"2\" halign=\"left\">Price</th>\n",
       "      <th colspan=\"2\" halign=\"left\">Reviews_Count</th>\n",
       "      <th colspan=\"2\" halign=\"left\">Hearts</th>\n",
       "      <th colspan=\"2\" halign=\"left\">Clean</th>\n",
       "    </tr>\n",
       "    <tr>\n",
       "      <th></th>\n",
       "      <th>mean</th>\n",
       "      <th>std</th>\n",
       "      <th>mean</th>\n",
       "      <th>std</th>\n",
       "      <th>mean</th>\n",
       "      <th>std</th>\n",
       "      <th>mean</th>\n",
       "      <th>std</th>\n",
       "    </tr>\n",
       "    <tr>\n",
       "      <th>Allure</th>\n",
       "      <th></th>\n",
       "      <th></th>\n",
       "      <th></th>\n",
       "      <th></th>\n",
       "      <th></th>\n",
       "      <th></th>\n",
       "      <th></th>\n",
       "      <th></th>\n",
       "    </tr>\n",
       "  </thead>\n",
       "  <tbody>\n",
       "    <tr>\n",
       "      <th>0</th>\n",
       "      <td>44.877778</td>\n",
       "      <td>27.042864</td>\n",
       "      <td>351.604938</td>\n",
       "      <td>604.625353</td>\n",
       "      <td>739.154321</td>\n",
       "      <td>2648.526085</td>\n",
       "      <td>0.123457</td>\n",
       "      <td>0.331010</td>\n",
       "    </tr>\n",
       "    <tr>\n",
       "      <th>1</th>\n",
       "      <td>62.059136</td>\n",
       "      <td>85.578456</td>\n",
       "      <td>1260.061728</td>\n",
       "      <td>2669.376066</td>\n",
       "      <td>10866.644444</td>\n",
       "      <td>72255.936525</td>\n",
       "      <td>0.135802</td>\n",
       "      <td>0.344713</td>\n",
       "    </tr>\n",
       "  </tbody>\n",
       "</table>\n",
       "</div>"
      ],
      "text/plain": [
       "            Price            Reviews_Count                     Hearts  \\\n",
       "             mean        std          mean          std          mean   \n",
       "Allure                                                                  \n",
       "0       44.877778  27.042864    351.604938   604.625353    739.154321   \n",
       "1       62.059136  85.578456   1260.061728  2669.376066  10866.644444   \n",
       "\n",
       "                         Clean            \n",
       "                 std      mean       std  \n",
       "Allure                                    \n",
       "0        2648.526085  0.123457  0.331010  \n",
       "1       72255.936525  0.135802  0.344713  "
      ]
     },
     "execution_count": 16,
     "metadata": {},
     "output_type": "execute_result"
    }
   ],
   "source": [
    "#see how the classes are different in terms of varience and central tendency\n",
    "aggr = edf.groupby('Allure').agg(['mean', 'std'])\n",
    "aggr"
   ]
  },
  {
   "cell_type": "code",
   "execution_count": 17,
   "metadata": {},
   "outputs": [
    {
     "data": {
      "text/plain": [
       "<matplotlib.axes._subplots.AxesSubplot at 0x1c17695518>"
      ]
     },
     "execution_count": 17,
     "metadata": {},
     "output_type": "execute_result"
    },
    {
     "data": {
      "image/png": "[encoded data removed]",
      "text/plain": [
       "<Figure size 720x360 with 1 Axes>"
      ]
     },
     "metadata": {},
     "output_type": "display_data"
    }
   ],
   "source": [
    "aggr.plot.bar()"
   ]
  },
  {
   "cell_type": "code",
   "execution_count": 18,
   "metadata": {},
   "outputs": [],
   "source": [
    "#try XGBoost!\n",
    "Xsh = edf[['Price', 'Reviews_Count', 'Hearts', 'Clean']]\n",
    "ysh = edf['Allure']"
   ]
  },
  {
   "cell_type": "code",
   "execution_count": 19,
   "metadata": {},
   "outputs": [],
   "source": [
    "Xsh_train, Xsh_test, ysh_train, ysh_test = train_test_split(Xsh, ysh, test_size=0.2, random_state=1)"
   ]
  },
  {
   "cell_type": "code",
   "execution_count": 20,
   "metadata": {},
   "outputs": [
    {
     "name": "stdout",
     "output_type": "stream",
     "text": [
      "Training Accuracy: 92.25%\n",
      "Validation accuracy: 96.97%\n"
     ]
    }
   ],
   "source": [
    "clf = XGBClassifier()\n",
    "clf.fit(Xsh, ysh)\n",
    "\n",
    "training_preds_ = clf.predict(Xsh_train)\n",
    "test_preds_ = clf.predict(Xsh_test)\n",
    "\n",
    "training_accuracy_ = accuracy_score(ysh_train, training_preds_)\n",
    "test_accuracy_ = accuracy_score(ysh_test, test_preds_)\n",
    "\n",
    "print('Training Accuracy: {:.4}%'.format(training_accuracy_ * 100))\n",
    "print('Validation accuracy: {:.4}%'.format(test_accuracy_ * 100))"
   ]
  },
  {
   "cell_type": "code",
   "execution_count": 21,
   "metadata": {},
   "outputs": [
    {
     "name": "stdout",
     "output_type": "stream",
     "text": [
      "              precision    recall  f1-score   support\n",
      "\n",
      "           0       1.00      0.93      0.97        15\n",
      "           1       0.95      1.00      0.97        18\n",
      "\n",
      "    accuracy                           0.97        33\n",
      "   macro avg       0.97      0.97      0.97        33\n",
      "weighted avg       0.97      0.97      0.97        33\n",
      "\n"
     ]
    }
   ],
   "source": [
    "print(classification_report(ysh_test, test_preds_))"
   ]
  },
  {
   "cell_type": "code",
   "execution_count": 22,
   "metadata": {},
   "outputs": [
    {
     "name": "stdout",
     "output_type": "stream",
     "text": [
      "[[14  1]\n",
      " [ 0 18]]\n"
     ]
    }
   ],
   "source": [
    "print(metrics.confusion_matrix(ysh_test, test_preds_))"
   ]
  },
  {
   "cell_type": "code",
   "execution_count": 62,
   "metadata": {},
   "outputs": [
    {
     "data": {
      "text/html": [
       "<div>\n",
       "<style scoped>\n",
       "    .dataframe tbody tr th:only-of-type {\n",
       "        vertical-align: middle;\n",
       "    }\n",
       "\n",
       "    .dataframe tbody tr th {\n",
       "        vertical-align: top;\n",
       "    }\n",
       "\n",
       "    .dataframe thead th {\n",
       "        text-align: right;\n",
       "    }\n",
       "</style>\n",
       "<table border=\"1\" class=\"dataframe\">\n",
       "  <thead>\n",
       "    <tr style=\"text-align: right;\">\n",
       "      <th></th>\n",
       "      <th>0</th>\n",
       "    </tr>\n",
       "  </thead>\n",
       "  <tbody>\n",
       "    <tr>\n",
       "      <th>Training Accuracy Score</th>\n",
       "      <td>92.25%</td>\n",
       "    </tr>\n",
       "    <tr>\n",
       "      <th>Validation Accuracy Score</th>\n",
       "      <td>96.97%</td>\n",
       "    </tr>\n",
       "    <tr>\n",
       "      <th>Precision, non-winners</th>\n",
       "      <td>1.00</td>\n",
       "    </tr>\n",
       "    <tr>\n",
       "      <th>Precision, winners</th>\n",
       "      <td>0.95</td>\n",
       "    </tr>\n",
       "    <tr>\n",
       "      <th>Recall, non-winners</th>\n",
       "      <td>0.93</td>\n",
       "    </tr>\n",
       "    <tr>\n",
       "      <th>Recall, winners</th>\n",
       "      <td>1.00</td>\n",
       "    </tr>\n",
       "    <tr>\n",
       "      <th>F1</th>\n",
       "      <td>0.97</td>\n",
       "    </tr>\n",
       "  </tbody>\n",
       "</table>\n",
       "</div>"
      ],
      "text/plain": [
       "                                0\n",
       "Training Accuracy Score    92.25%\n",
       "Validation Accuracy Score  96.97%\n",
       "Precision, non-winners       1.00\n",
       "Precision, winners           0.95\n",
       "Recall, non-winners          0.93\n",
       "Recall, winners              1.00\n",
       "F1                           0.97"
      ]
     },
     "execution_count": 62,
     "metadata": {},
     "output_type": "execute_result"
    }
   ],
   "source": [
    "dii = {'Training Accuracy Score': '92.25%',\n",
    "      'Validation Accuracy Score': '96.97%',\n",
    "      'Precision, non-winners': '1.00',\n",
    "      'Precision, winners': '0.95',\n",
    "      'Recall, non-winners': '0.93',\n",
    "      'Recall, winners': '1.00',\n",
    "      'F1': '0.97',}\n",
    "diif = pd.DataFrame.from_dict(dii, orient='index')\n",
    "diif"
   ]
  },
  {
   "cell_type": "markdown",
   "metadata": {},
   "source": [
    "\\begin{pmatrix}\n",
    "14 & 1\\\\\n",
    "0 & 18 \n",
    "\\end{pmatrix}"
   ]
  },
  {
   "cell_type": "code",
   "execution_count": null,
   "metadata": {},
   "outputs": [],
   "source": []
  },
  {
   "cell_type": "code",
   "execution_count": 23,
   "metadata": {},
   "outputs": [
    {
     "name": "stdout",
     "output_type": "stream",
     "text": [
      "Number of mislabeled points out of a total 33 points : 14\n"
     ]
    }
   ],
   "source": [
    "gnb = GaussianNB()\n",
    "ysh_pred = gnb.fit(Xsh_train, ysh_train).predict(Xsh_test)\n",
    "print(\"Number of mislabeled points out of a total %d points : %d\" \n",
    "      % (Xsh_test.shape[0], (ysh_test != ysh_pred).sum()))"
   ]
  },
  {
   "cell_type": "markdown",
   "metadata": {},
   "source": [
    "Unfortunateltly, Naive Bayes is not a good fit for my data."
   ]
  },
  {
   "cell_type": "markdown",
   "metadata": {},
   "source": [
    "DO it again!!"
   ]
  },
  {
   "cell_type": "code",
   "execution_count": 24,
   "metadata": {},
   "outputs": [
    {
     "data": {
      "text/html": [
       "<div>\n",
       "<style scoped>\n",
       "    .dataframe tbody tr th:only-of-type {\n",
       "        vertical-align: middle;\n",
       "    }\n",
       "\n",
       "    .dataframe tbody tr th {\n",
       "        vertical-align: top;\n",
       "    }\n",
       "\n",
       "    .dataframe thead th {\n",
       "        text-align: right;\n",
       "    }\n",
       "</style>\n",
       "<table border=\"1\" class=\"dataframe\">\n",
       "  <thead>\n",
       "    <tr style=\"text-align: right;\">\n",
       "      <th></th>\n",
       "      <th>Brand</th>\n",
       "      <th>Product</th>\n",
       "      <th>Price</th>\n",
       "      <th>Reviews_Count</th>\n",
       "      <th>Hearts</th>\n",
       "      <th>Clean</th>\n",
       "      <th>Allure</th>\n",
       "    </tr>\n",
       "  </thead>\n",
       "  <tbody>\n",
       "    <tr>\n",
       "      <th>0</th>\n",
       "      <td>ARMANI BEAUTY</td>\n",
       "      <td>Lip Maestro Liquid Lipstick</td>\n",
       "      <td>38.0</td>\n",
       "      <td>1000.0</td>\n",
       "      <td>171.7</td>\n",
       "      <td>0</td>\n",
       "      <td>1</td>\n",
       "    </tr>\n",
       "    <tr>\n",
       "      <th>1</th>\n",
       "      <td>CHARLOTTE TILBURY</td>\n",
       "      <td>Matte Revolution Lipstick</td>\n",
       "      <td>34.0</td>\n",
       "      <td>719.0</td>\n",
       "      <td>135.3</td>\n",
       "      <td>0</td>\n",
       "      <td>0</td>\n",
       "    </tr>\n",
       "    <tr>\n",
       "      <th>2</th>\n",
       "      <td>TATCHA</td>\n",
       "      <td>The Kissu Lip Mask</td>\n",
       "      <td>28.0</td>\n",
       "      <td>262.0</td>\n",
       "      <td>41.3</td>\n",
       "      <td>1</td>\n",
       "      <td>0</td>\n",
       "    </tr>\n",
       "    <tr>\n",
       "      <th>3</th>\n",
       "      <td>GIVENCHY</td>\n",
       "      <td>Le Rouge Lipstick</td>\n",
       "      <td>38.0</td>\n",
       "      <td>640.0</td>\n",
       "      <td>111.2</td>\n",
       "      <td>0</td>\n",
       "      <td>0</td>\n",
       "    </tr>\n",
       "    <tr>\n",
       "      <th>4</th>\n",
       "      <td>NARS</td>\n",
       "      <td>Velvet Matte Lipstick Pencil</td>\n",
       "      <td>27.0</td>\n",
       "      <td>5000.0</td>\n",
       "      <td>350.4</td>\n",
       "      <td>0</td>\n",
       "      <td>0</td>\n",
       "    </tr>\n",
       "  </tbody>\n",
       "</table>\n",
       "</div>"
      ],
      "text/plain": [
       "               Brand                       Product  Price  Reviews_Count  \\\n",
       "0      ARMANI BEAUTY   Lip Maestro Liquid Lipstick   38.0         1000.0   \n",
       "1  CHARLOTTE TILBURY     Matte Revolution Lipstick   34.0          719.0   \n",
       "2             TATCHA            The Kissu Lip Mask   28.0          262.0   \n",
       "3           GIVENCHY             Le Rouge Lipstick   38.0          640.0   \n",
       "4               NARS  Velvet Matte Lipstick Pencil   27.0         5000.0   \n",
       "\n",
       "   Hearts  Clean  Allure  \n",
       "0   171.7      0       1  \n",
       "1   135.3      0       0  \n",
       "2    41.3      1       0  \n",
       "3   111.2      0       0  \n",
       "4   350.4      0       0  "
      ]
     },
     "execution_count": 24,
     "metadata": {},
     "output_type": "execute_result"
    }
   ],
   "source": [
    "df.head()"
   ]
  },
  {
   "cell_type": "code",
   "execution_count": 25,
   "metadata": {},
   "outputs": [],
   "source": [
    "df_l = df[df['Allure'] == 0]\n",
    "df_w = df[df['Allure'] == 1]"
   ]
  },
  {
   "cell_type": "code",
   "execution_count": 26,
   "metadata": {},
   "outputs": [],
   "source": [
    "df_ls = shuffle(df_l)"
   ]
  },
  {
   "cell_type": "code",
   "execution_count": 27,
   "metadata": {},
   "outputs": [],
   "source": [
    "df_l_81 = df_l[:81]"
   ]
  },
  {
   "cell_type": "code",
   "execution_count": 28,
   "metadata": {},
   "outputs": [
    {
     "data": {
      "text/html": [
       "<div>\n",
       "<style scoped>\n",
       "    .dataframe tbody tr th:only-of-type {\n",
       "        vertical-align: middle;\n",
       "    }\n",
       "\n",
       "    .dataframe tbody tr th {\n",
       "        vertical-align: top;\n",
       "    }\n",
       "\n",
       "    .dataframe thead th {\n",
       "        text-align: right;\n",
       "    }\n",
       "</style>\n",
       "<table border=\"1\" class=\"dataframe\">\n",
       "  <thead>\n",
       "    <tr style=\"text-align: right;\">\n",
       "      <th></th>\n",
       "      <th>Brand</th>\n",
       "      <th>Product</th>\n",
       "      <th>Price</th>\n",
       "      <th>Reviews_Count</th>\n",
       "      <th>Hearts</th>\n",
       "      <th>Clean</th>\n",
       "      <th>Allure</th>\n",
       "    </tr>\n",
       "  </thead>\n",
       "  <tbody>\n",
       "    <tr>\n",
       "      <th>148</th>\n",
       "      <td>CLINIQUE</td>\n",
       "      <td>Cheek Pop Blush</td>\n",
       "      <td>25.0</td>\n",
       "      <td>944.0</td>\n",
       "      <td>125.3</td>\n",
       "      <td>0</td>\n",
       "      <td>0</td>\n",
       "    </tr>\n",
       "    <tr>\n",
       "      <th>9</th>\n",
       "      <td>PETER THOMAS ROTH</td>\n",
       "      <td>Max Mineral Naked Broad Spectrum SPF 45</td>\n",
       "      <td>38.0</td>\n",
       "      <td>90.0</td>\n",
       "      <td>7.5</td>\n",
       "      <td>0</td>\n",
       "      <td>1</td>\n",
       "    </tr>\n",
       "    <tr>\n",
       "      <th>52</th>\n",
       "      <td>TATA HARPER</td>\n",
       "      <td>Resurfacing AHA + BHA Serum</td>\n",
       "      <td>88.0</td>\n",
       "      <td>144.0</td>\n",
       "      <td>13.4</td>\n",
       "      <td>0</td>\n",
       "      <td>1</td>\n",
       "    </tr>\n",
       "    <tr>\n",
       "      <th>85</th>\n",
       "      <td>DIOR</td>\n",
       "      <td>Lip Glow Diormania</td>\n",
       "      <td>34.0</td>\n",
       "      <td>5.0</td>\n",
       "      <td>5.5</td>\n",
       "      <td>0</td>\n",
       "      <td>0</td>\n",
       "    </tr>\n",
       "    <tr>\n",
       "      <th>13</th>\n",
       "      <td>MAKE UP FOR EVER</td>\n",
       "      <td>Artist Color Eye Shadow</td>\n",
       "      <td>17.0</td>\n",
       "      <td>730.0</td>\n",
       "      <td>168.2</td>\n",
       "      <td>0</td>\n",
       "      <td>1</td>\n",
       "    </tr>\n",
       "  </tbody>\n",
       "</table>\n",
       "</div>"
      ],
      "text/plain": [
       "                 Brand                                  Product  Price  \\\n",
       "148           CLINIQUE                          Cheek Pop Blush   25.0   \n",
       "9    PETER THOMAS ROTH  Max Mineral Naked Broad Spectrum SPF 45   38.0   \n",
       "52         TATA HARPER              Resurfacing AHA + BHA Serum   88.0   \n",
       "85                DIOR                       Lip Glow Diormania   34.0   \n",
       "13    MAKE UP FOR EVER                  Artist Color Eye Shadow   17.0   \n",
       "\n",
       "     Reviews_Count  Hearts  Clean  Allure  \n",
       "148          944.0   125.3      0       0  \n",
       "9             90.0     7.5      0       1  \n",
       "52           144.0    13.4      0       1  \n",
       "85             5.0     5.5      0       0  \n",
       "13           730.0   168.2      0       1  "
      ]
     },
     "execution_count": 28,
     "metadata": {},
     "output_type": "execute_result"
    }
   ],
   "source": [
    "twodfs = [df_w, df_l_81]\n",
    "eqdf = pd.concat(twodfs, ignore_index=True)\n",
    "\n",
    "#shuffle them again!\n",
    "eqdfs = shuffle(eqdf)\n",
    "eqdfs.head()"
   ]
  },
  {
   "cell_type": "code",
   "execution_count": 29,
   "metadata": {},
   "outputs": [],
   "source": [
    "Xs = eqdfs[['Price', 'Reviews_Count', 'Hearts', 'Clean']]\n",
    "ys = eqdfs['Allure']"
   ]
  },
  {
   "cell_type": "code",
   "execution_count": 30,
   "metadata": {},
   "outputs": [],
   "source": [
    "Xs_train, Xs_test, ys_train, ys_test = train_test_split(Xs, ys, test_size=0.3, random_state=1)"
   ]
  },
  {
   "cell_type": "code",
   "execution_count": 37,
   "metadata": {},
   "outputs": [
    {
     "name": "stdout",
     "output_type": "stream",
     "text": [
      "Training Accuracy: 89.38%\n",
      "Validation accuracy: 93.88%\n",
      "              precision    recall  f1-score   support\n",
      "\n",
      "           0       0.89      1.00      0.94        24\n",
      "           1       1.00      0.88      0.94        25\n",
      "\n",
      "    accuracy                           0.94        49\n",
      "   macro avg       0.94      0.94      0.94        49\n",
      "weighted avg       0.95      0.94      0.94        49\n",
      "\n",
      "[[24  0]\n",
      " [ 3 22]]\n"
     ]
    }
   ],
   "source": [
    "clf = XGBClassifier()\n",
    "clf.fit(Xs, ys)\n",
    "\n",
    "training_preds__ = clf.predict(Xs_train)\n",
    "test_preds__ = clf.predict(Xs_test)\n",
    "\n",
    "training_accuracy__ = accuracy_score(ys_train, training_preds__)\n",
    "test_accuracy__ = accuracy_score(ys_test, test_preds__)\n",
    "\n",
    "print('Training Accuracy: {:.4}%'.format(training_accuracy__ * 100))\n",
    "print('Validation accuracy: {:.4}%'.format(test_accuracy__ * 100))\n",
    "print(classification_report(ys_test, test_preds__))\n",
    "print(metrics.confusion_matrix(ys_test, test_preds__))"
   ]
  },
  {
   "cell_type": "markdown",
   "metadata": {},
   "source": [
    "Training Accuracy Score: 89.38%\n",
    "Validation Accuracy Score: 93.88%\n",
    "\n",
    "Precision: 0:0.89 1:1.00\n",
    "Recall: "
   ]
  },
  {
   "cell_type": "code",
   "execution_count": 61,
   "metadata": {},
   "outputs": [
    {
     "data": {
      "text/html": [
       "<div>\n",
       "<style scoped>\n",
       "    .dataframe tbody tr th:only-of-type {\n",
       "        vertical-align: middle;\n",
       "    }\n",
       "\n",
       "    .dataframe tbody tr th {\n",
       "        vertical-align: top;\n",
       "    }\n",
       "\n",
       "    .dataframe thead th {\n",
       "        text-align: right;\n",
       "    }\n",
       "</style>\n",
       "<table border=\"1\" class=\"dataframe\">\n",
       "  <thead>\n",
       "    <tr style=\"text-align: right;\">\n",
       "      <th></th>\n",
       "      <th>0</th>\n",
       "    </tr>\n",
       "  </thead>\n",
       "  <tbody>\n",
       "    <tr>\n",
       "      <th>Training Accuracy Score</th>\n",
       "      <td>89.38%</td>\n",
       "    </tr>\n",
       "    <tr>\n",
       "      <th>Validation Accuracy Score</th>\n",
       "      <td>93.88%</td>\n",
       "    </tr>\n",
       "    <tr>\n",
       "      <th>Precision, non-winners</th>\n",
       "      <td>0.89</td>\n",
       "    </tr>\n",
       "    <tr>\n",
       "      <th>Precision, winners</th>\n",
       "      <td>1.00</td>\n",
       "    </tr>\n",
       "    <tr>\n",
       "      <th>Recall, non-winners</th>\n",
       "      <td>1.00</td>\n",
       "    </tr>\n",
       "    <tr>\n",
       "      <th>Recall, winners</th>\n",
       "      <td>0.88</td>\n",
       "    </tr>\n",
       "    <tr>\n",
       "      <th>F1</th>\n",
       "      <td>0.94</td>\n",
       "    </tr>\n",
       "  </tbody>\n",
       "</table>\n",
       "</div>"
      ],
      "text/plain": [
       "                                0\n",
       "Training Accuracy Score    89.38%\n",
       "Validation Accuracy Score  93.88%\n",
       "Precision, non-winners       0.89\n",
       "Precision, winners           1.00\n",
       "Recall, non-winners          1.00\n",
       "Recall, winners              0.88\n",
       "F1                           0.94"
      ]
     },
     "execution_count": 61,
     "metadata": {},
     "output_type": "execute_result"
    }
   ],
   "source": [
    "di = {'Training Accuracy Score': '89.38%',\n",
    "      'Validation Accuracy Score': '93.88%',\n",
    "      'Precision, non-winners': '0.89',\n",
    "      'Precision, winners': '1.00',\n",
    "      'Recall, non-winners': '1.00',\n",
    "      'Recall, winners': '0.88',\n",
    "      'F1': '0.94',}\n",
    "dif = pd.DataFrame.from_dict(di, orient='index')\n",
    "dif"
   ]
  },
  {
   "cell_type": "markdown",
   "metadata": {},
   "source": [
    "Confusion Matrix\n",
    "\\begin{pmatrix}\n",
    "24 & 0\\\\\n",
    "3 & 22 \n",
    "\\end{pmatrix}"
   ]
  },
  {
   "cell_type": "markdown",
   "metadata": {},
   "source": [
    "As we can see, the model works very well on manually shuffled data. Recall went up and the main diagonal of the confusion matrix looks good, too."
   ]
  },
  {
   "cell_type": "markdown",
   "metadata": {},
   "source": [
    "# Visualizations of the equal-data"
   ]
  },
  {
   "cell_type": "code",
   "execution_count": 32,
   "metadata": {},
   "outputs": [
    {
     "name": "stdout",
     "output_type": "stream",
     "text": [
      "Target Variable\n",
      "Allure\n",
      "0    81\n",
      "1    81\n",
      "Name: Allure, dtype: int64\n"
     ]
    },
    {
     "data": {
      "image/png": "[encoded data removed]",
      "text/plain": [
       "<Figure size 720x360 with 1 Axes>"
      ]
     },
     "metadata": {},
     "output_type": "display_data"
    }
   ],
   "source": [
    "print('Target Variable')\n",
    "print(edf.groupby(['Allure']).Allure.count())\n",
    "\n",
    "# Target Variable Countplot\n",
    "sns.set_style('darkgrid')\n",
    "plt.figure(figsize = (10,5))\n",
    "sns.countplot(edf['Allure'], alpha =.80, palette= ['grey','red'])\n",
    "plt.title('Equally represented classes')\n",
    "plt.ylabel('# Products')\n",
    "plt.show()"
   ]
  },
  {
   "cell_type": "code",
   "execution_count": 33,
   "metadata": {},
   "outputs": [
    {
     "data": {
      "image/png": "[encoded data removed]",
      "text/plain": [
       "<Figure size 720x360 with 1 Axes>"
      ]
     },
     "metadata": {},
     "output_type": "display_data"
    }
   ],
   "source": [
    "cleanp = edf.groupby(['Clean','Allure']).Clean.count().unstack()\n",
    "p1 = cleanp.plot(kind = 'bar', stacked = False, \n",
    "                   title = 'Clean/Regular products, winners/non-winners', \n",
    "                   color = ['grey','red'], alpha = .70)\n",
    "p1.set_xlabel('Clean')\n",
    "p1.set_ylabel('# Prodicts')\n",
    "p1.legend(['Non-winners','Winners'])\n",
    "plt.show()"
   ]
  },
  {
   "cell_type": "code",
   "execution_count": 34,
   "metadata": {},
   "outputs": [
    {
     "data": {
      "image/png": "[encoded data removed]",
      "text/plain": [
       "<Figure size 1152x720 with 3 Axes>"
      ]
     },
     "metadata": {},
     "output_type": "display_data"
    }
   ],
   "source": [
    "sns.set_style('darkgrid')\n",
    "fig = plt.figure(figsize = (16,10))\n",
    "fig.subplots_adjust(hspace = .30)\n",
    "\n",
    "ax1 = fig.add_subplot(221)\n",
    "ax1.hist(edf[edf['Allure'] ==0].Price, bins = 25, label ='Non-winner', alpha = .50,edgecolor= 'black',color ='grey')\n",
    "ax1.hist(edf[edf['Allure']==1].Price, bins = 25, label = 'Winner', alpha = .50, edgecolor = 'black',color = 'red')\n",
    "ax1.set_title('Product Price: Winners vs Non-Winners')\n",
    "ax1.set_xlabel('Price')\n",
    "ax1.set_ylabel('# Products')\n",
    "ax1.legend(loc = 'upper right')\n",
    "\n",
    "ax2 = fig.add_subplot(223)\n",
    "ax2.hist(edf[edf['Allure']==0].Hearts, bins = 25, label = 'Non-winner', alpha = .50, edgecolor ='black', color = 'grey')\n",
    "ax2.hist(edf[edf['Allure']==1].Hearts, bins = 25, label = 'Winner', alpha = .50, edgecolor = 'black',color ='red')\n",
    "ax2.set_title('Number of hearts: Winners vs Non-Winners')\n",
    "ax2.set_xlabel('Hearts')\n",
    "ax2.set_ylabel('# Products')\n",
    "ax2.legend(loc = 'upper right')\n",
    "\n",
    "ax3 = fig.add_subplot(122)\n",
    "ax3.scatter(x = edf[edf['Allure']==0].Price, y = edf[edf['Allure']==0].Reviews_Count, alpha = .50, edgecolor= 'black',  c = 'grey', s= 75, label = 'Non-winners')\n",
    "ax3.scatter(x = edf[edf['Allure']==1].Price, y = edf[edf['Allure']==1].Reviews_Count, alpha = .50, edgecolors= 'black',  c = 'red', s= 75, label = 'Winners')\n",
    "ax3.set_xlabel('Price')\n",
    "ax3.set_ylabel('Number of Hearts')\n",
    "ax3.set_title('Prices vs Number of Hearts')\n",
    "ax3.legend()\n",
    "\n",
    "plt.show()"
   ]
  },
  {
   "cell_type": "code",
   "execution_count": 38,
   "metadata": {
    "collapsed": true
   },
   "outputs": [
    {
     "name": "stdout",
     "output_type": "stream",
     "text": [
      "Collecting cufflinks\n",
      "\u001b[?25l  Downloading https://files.pythonhosted.org/packages/e3/79/1b8673b2723e02919307d558896dbcedcb46807c4e29acd25cfe43a36c8b/cufflinks-0.17.0.tar.gz (81kB)\n",
      "\u001b[K    100% |████████████████████████████████| 81kB 2.7MB/s ta 0:00:01\n",
      "\u001b[?25hRequirement already satisfied: plotly in /Users/agorina/anaconda3/lib/python3.6/site-packages (4.4.1)\n",
      "Requirement already satisfied: numpy>=1.9.2 in /Users/agorina/anaconda3/lib/python3.6/site-packages (from cufflinks) (1.14.3)\n",
      "Requirement already satisfied: pandas>=0.19.2 in /Users/agorina/anaconda3/lib/python3.6/site-packages (from cufflinks) (0.23.0)\n",
      "Collecting chart-studio>=1.0.0 (from cufflinks)\n",
      "\u001b[?25l  Downloading https://files.pythonhosted.org/packages/b9/3f/d2f3f506ba1aaf109f549f8b01d1483cd3e324c5ebe6b206acee66efdf46/chart_studio-1.0.0-py3-none-any.whl (76kB)\n",
      "\u001b[K    100% |████████████████████████████████| 81kB 15.9MB/s ta 0:00:01\n",
      "\u001b[?25hRequirement already satisfied: six>=1.9.0 in /Users/agorina/anaconda3/lib/python3.6/site-packages (from cufflinks) (1.11.0)\n",
      "Collecting colorlover>=0.2.1 (from cufflinks)\n",
      "  Downloading https://files.pythonhosted.org/packages/9a/53/f696e4480b1d1de3b1523991dea71cf417c8b19fe70c704da164f3f90972/colorlover-0.3.0-py3-none-any.whl\n",
      "Requirement already satisfied: setuptools>=34.4.1 in /Users/agorina/anaconda3/lib/python3.6/site-packages (from cufflinks) (39.1.0)\n",
      "Requirement already satisfied: ipython>=5.3.0 in /Users/agorina/anaconda3/lib/python3.6/site-packages (from cufflinks) (6.4.0)\n",
      "Requirement already satisfied: ipywidgets>=7.0.0 in /Users/agorina/anaconda3/lib/python3.6/site-packages (from cufflinks) (7.2.1)\n",
      "Requirement already satisfied: retrying>=1.3.3 in /Users/agorina/anaconda3/lib/python3.6/site-packages (from plotly) (1.3.3)\n",
      "Requirement already satisfied: python-dateutil>=2.5.0 in /Users/agorina/anaconda3/lib/python3.6/site-packages (from pandas>=0.19.2->cufflinks) (2.7.3)\n",
      "Requirement already satisfied: pytz>=2011k in /Users/agorina/anaconda3/lib/python3.6/site-packages (from pandas>=0.19.2->cufflinks) (2018.4)\n",
      "Requirement already satisfied: requests in /Users/agorina/anaconda3/lib/python3.6/site-packages (from chart-studio>=1.0.0->cufflinks) (2.18.4)\n",
      "Requirement already satisfied: appnope; sys_platform == \"darwin\" in /Users/agorina/anaconda3/lib/python3.6/site-packages (from ipython>=5.3.0->cufflinks) (0.1.0)\n",
      "Requirement already satisfied: backcall in /Users/agorina/anaconda3/lib/python3.6/site-packages (from ipython>=5.3.0->cufflinks) (0.1.0)\n",
      "Requirement already satisfied: pygments in /Users/agorina/anaconda3/lib/python3.6/site-packages (from ipython>=5.3.0->cufflinks) (2.2.0)\n",
      "Requirement already satisfied: jedi>=0.10 in /Users/agorina/anaconda3/lib/python3.6/site-packages (from ipython>=5.3.0->cufflinks) (0.12.0)\n",
      "Requirement already satisfied: prompt-toolkit<2.0.0,>=1.0.15 in /Users/agorina/anaconda3/lib/python3.6/site-packages (from ipython>=5.3.0->cufflinks) (1.0.15)\n",
      "Requirement already satisfied: simplegeneric>0.8 in /Users/agorina/anaconda3/lib/python3.6/site-packages (from ipython>=5.3.0->cufflinks) (0.8.1)\n",
      "Requirement already satisfied: traitlets>=4.2 in /Users/agorina/anaconda3/lib/python3.6/site-packages (from ipython>=5.3.0->cufflinks) (4.3.2)\n",
      "Requirement already satisfied: pexpect; sys_platform != \"win32\" in /Users/agorina/anaconda3/lib/python3.6/site-packages (from ipython>=5.3.0->cufflinks) (4.5.0)\n",
      "Requirement already satisfied: decorator in /Users/agorina/anaconda3/lib/python3.6/site-packages (from ipython>=5.3.0->cufflinks) (4.3.0)\n",
      "Requirement already satisfied: pickleshare in /Users/agorina/anaconda3/lib/python3.6/site-packages (from ipython>=5.3.0->cufflinks) (0.7.4)\n",
      "Requirement already satisfied: ipykernel>=4.5.1 in /Users/agorina/anaconda3/lib/python3.6/site-packages (from ipywidgets>=7.0.0->cufflinks) (4.8.2)\n",
      "Requirement already satisfied: nbformat>=4.2.0 in /Users/agorina/anaconda3/lib/python3.6/site-packages (from ipywidgets>=7.0.0->cufflinks) (4.4.0)\n",
      "Requirement already satisfied: widgetsnbextension~=3.2.0 in /Users/agorina/anaconda3/lib/python3.6/site-packages (from ipywidgets>=7.0.0->cufflinks) (3.2.1)\n",
      "Requirement already satisfied: chardet<3.1.0,>=3.0.2 in /Users/agorina/anaconda3/lib/python3.6/site-packages (from requests->chart-studio>=1.0.0->cufflinks) (3.0.4)\n",
      "Requirement already satisfied: idna<2.7,>=2.5 in /Users/agorina/anaconda3/lib/python3.6/site-packages (from requests->chart-studio>=1.0.0->cufflinks) (2.6)\n",
      "Requirement already satisfied: urllib3<1.23,>=1.21.1 in /Users/agorina/anaconda3/lib/python3.6/site-packages (from requests->chart-studio>=1.0.0->cufflinks) (1.22)\n",
      "Requirement already satisfied: certifi>=2017.4.17 in /Users/agorina/anaconda3/lib/python3.6/site-packages (from requests->chart-studio>=1.0.0->cufflinks) (2018.4.16)\n",
      "Requirement already satisfied: parso>=0.2.0 in /Users/agorina/anaconda3/lib/python3.6/site-packages (from jedi>=0.10->ipython>=5.3.0->cufflinks) (0.2.0)\n",
      "Requirement already satisfied: wcwidth in /Users/agorina/anaconda3/lib/python3.6/site-packages (from prompt-toolkit<2.0.0,>=1.0.15->ipython>=5.3.0->cufflinks) (0.1.7)\n",
      "Requirement already satisfied: ipython_genutils in /Users/agorina/anaconda3/lib/python3.6/site-packages (from traitlets>=4.2->ipython>=5.3.0->cufflinks) (0.2.0)\n",
      "Requirement already satisfied: ptyprocess>=0.5 in /Users/agorina/anaconda3/lib/python3.6/site-packages (from pexpect; sys_platform != \"win32\"->ipython>=5.3.0->cufflinks) (0.5.2)\n",
      "Requirement already satisfied: jupyter_client in /Users/agorina/anaconda3/lib/python3.6/site-packages (from ipykernel>=4.5.1->ipywidgets>=7.0.0->cufflinks) (5.2.3)\n",
      "Requirement already satisfied: tornado>=4.0 in /Users/agorina/anaconda3/lib/python3.6/site-packages (from ipykernel>=4.5.1->ipywidgets>=7.0.0->cufflinks) (5.0.2)\n",
      "Requirement already satisfied: jsonschema!=2.5.0,>=2.4 in /Users/agorina/anaconda3/lib/python3.6/site-packages (from nbformat>=4.2.0->ipywidgets>=7.0.0->cufflinks) (2.6.0)\n",
      "Requirement already satisfied: jupyter_core in /Users/agorina/anaconda3/lib/python3.6/site-packages (from nbformat>=4.2.0->ipywidgets>=7.0.0->cufflinks) (4.4.0)\n",
      "Requirement already satisfied: notebook>=4.4.1 in /Users/agorina/anaconda3/lib/python3.6/site-packages (from widgetsnbextension~=3.2.0->ipywidgets>=7.0.0->cufflinks) (5.5.0)\n",
      "Requirement already satisfied: pyzmq>=13 in /Users/agorina/anaconda3/lib/python3.6/site-packages (from jupyter_client->ipykernel>=4.5.1->ipywidgets>=7.0.0->cufflinks) (17.0.0)\n",
      "Requirement already satisfied: nbconvert in /Users/agorina/anaconda3/lib/python3.6/site-packages (from notebook>=4.4.1->widgetsnbextension~=3.2.0->ipywidgets>=7.0.0->cufflinks) (5.3.1)\n",
      "Requirement already satisfied: terminado>=0.8.1 in /Users/agorina/anaconda3/lib/python3.6/site-packages (from notebook>=4.4.1->widgetsnbextension~=3.2.0->ipywidgets>=7.0.0->cufflinks) (0.8.1)\n",
      "Requirement already satisfied: jinja2 in /Users/agorina/anaconda3/lib/python3.6/site-packages (from notebook>=4.4.1->widgetsnbextension~=3.2.0->ipywidgets>=7.0.0->cufflinks) (2.10)\n",
      "Requirement already satisfied: Send2Trash in /Users/agorina/anaconda3/lib/python3.6/site-packages (from notebook>=4.4.1->widgetsnbextension~=3.2.0->ipywidgets>=7.0.0->cufflinks) (1.5.0)\n",
      "Requirement already satisfied: mistune>=0.7.4 in /Users/agorina/anaconda3/lib/python3.6/site-packages (from nbconvert->notebook>=4.4.1->widgetsnbextension~=3.2.0->ipywidgets>=7.0.0->cufflinks) (0.8.3)\n",
      "Requirement already satisfied: entrypoints>=0.2.2 in /Users/agorina/anaconda3/lib/python3.6/site-packages (from nbconvert->notebook>=4.4.1->widgetsnbextension~=3.2.0->ipywidgets>=7.0.0->cufflinks) (0.2.3)\n",
      "Requirement already satisfied: bleach in /Users/agorina/anaconda3/lib/python3.6/site-packages (from nbconvert->notebook>=4.4.1->widgetsnbextension~=3.2.0->ipywidgets>=7.0.0->cufflinks) (2.1.3)\n",
      "Requirement already satisfied: pandocfilters>=1.4.1 in /Users/agorina/anaconda3/lib/python3.6/site-packages (from nbconvert->notebook>=4.4.1->widgetsnbextension~=3.2.0->ipywidgets>=7.0.0->cufflinks) (1.4.2)\n",
      "Requirement already satisfied: testpath in /Users/agorina/anaconda3/lib/python3.6/site-packages (from nbconvert->notebook>=4.4.1->widgetsnbextension~=3.2.0->ipywidgets>=7.0.0->cufflinks) (0.3.1)\n",
      "Requirement already satisfied: MarkupSafe>=0.23 in /Users/agorina/anaconda3/lib/python3.6/site-packages (from jinja2->notebook>=4.4.1->widgetsnbextension~=3.2.0->ipywidgets>=7.0.0->cufflinks) (1.0)\n"
     ]
    },
    {
     "name": "stdout",
     "output_type": "stream",
     "text": [
      "Requirement already satisfied: html5lib!=1.0b1,!=1.0b2,!=1.0b3,!=1.0b4,!=1.0b5,!=1.0b6,!=1.0b7,!=1.0b8,>=0.99999999pre in /Users/agorina/anaconda3/lib/python3.6/site-packages (from bleach->nbconvert->notebook>=4.4.1->widgetsnbextension~=3.2.0->ipywidgets>=7.0.0->cufflinks) (1.0.1)\n",
      "Requirement already satisfied: webencodings in /Users/agorina/anaconda3/lib/python3.6/site-packages (from html5lib!=1.0b1,!=1.0b2,!=1.0b3,!=1.0b4,!=1.0b5,!=1.0b6,!=1.0b7,!=1.0b8,>=0.99999999pre->bleach->nbconvert->notebook>=4.4.1->widgetsnbextension~=3.2.0->ipywidgets>=7.0.0->cufflinks) (0.5.1)\n",
      "Building wheels for collected packages: cufflinks\n",
      "  Running setup.py bdist_wheel for cufflinks ... \u001b[?25ldone\n",
      "\u001b[?25h  Stored in directory: /Users/agorina/Library/Caches/pip/wheels/44/d7/dc/e830ab00bc2dd3b2731295103baa070f8cbdda8891f71a7a8d\n",
      "Successfully built cufflinks\n",
      "\u001b[31mdistributed 1.21.8 requires msgpack, which is not installed.\u001b[0m\n",
      "Installing collected packages: chart-studio, colorlover, cufflinks\n",
      "Successfully installed chart-studio-1.0.0 colorlover-0.3.0 cufflinks-0.17.0\n",
      "\u001b[33mYou are using pip version 10.0.1, however version 20.0.2 is available.\n",
      "You should consider upgrading via the 'pip install --upgrade pip' command.\u001b[0m\n"
     ]
    }
   ],
   "source": [
    "!pip install cufflinks plotly"
   ]
  },
  {
   "cell_type": "code",
   "execution_count": 40,
   "metadata": {},
   "outputs": [
    {
     "data": {
      "text/html": [
       "        <script type=\"text/javascript\">\n",
       "        window.PlotlyConfig = {MathJaxConfig: 'local'};\n",
       "        if (window.MathJax) {MathJax.Hub.Config({SVG: {font: \"STIX-Web\"}});}\n",
       "        if (typeof require !== 'undefined') {\n",
       "        require.undef(\"plotly\");\n",
       "        requirejs.config({\n",
       "            paths: {\n",
       "                'plotly': ['https://cdn.plot.ly/plotly-latest.min']\n",
       "            }\n",
       "        });\n",
       "        require(['plotly'], function(Plotly) {\n",
       "            window._Plotly = Plotly;\n",
       "        });\n",
       "        }\n",
       "        </script>\n",
       "        "
      ]
     },
     "metadata": {},
     "output_type": "display_data"
    },
    {
     "data": {
      "text/html": [
       "        <script type=\"text/javascript\">\n",
       "        window.PlotlyConfig = {MathJaxConfig: 'local'};\n",
       "        if (window.MathJax) {MathJax.Hub.Config({SVG: {font: \"STIX-Web\"}});}\n",
       "        if (typeof require !== 'undefined') {\n",
       "        require.undef(\"plotly\");\n",
       "        requirejs.config({\n",
       "            paths: {\n",
       "                'plotly': ['https://cdn.plot.ly/plotly-latest.min']\n",
       "            }\n",
       "        });\n",
       "        require(['plotly'], function(Plotly) {\n",
       "            window._Plotly = Plotly;\n",
       "        });\n",
       "        }\n",
       "        </script>\n",
       "        "
      ]
     },
     "metadata": {},
     "output_type": "display_data"
    }
   ],
   "source": [
    "# Standard plotly imports\n",
    "import chart_studio.plotly as py\n",
    "import plotly.graph_objs as go\n",
    "from plotly.offline import iplot, init_notebook_mode\n",
    "# Using plotly + cufflinks in offline mode\n",
    "import cufflinks\n",
    "cufflinks.go_offline(connected=True)\n",
    "init_notebook_mode(connected=True)"
   ]
  },
  {
   "cell_type": "code",
   "execution_count": 43,
   "metadata": {},
   "outputs": [],
   "source": [
    "import plotly.figure_factory as ff\n",
    "import plotly.express as px"
   ]
  },
  {
   "cell_type": "code",
   "execution_count": 42,
   "metadata": {},
   "outputs": [
    {
     "data": {
      "text/html": [
       "<div>\n",
       "<style scoped>\n",
       "    .dataframe tbody tr th:only-of-type {\n",
       "        vertical-align: middle;\n",
       "    }\n",
       "\n",
       "    .dataframe tbody tr th {\n",
       "        vertical-align: top;\n",
       "    }\n",
       "\n",
       "    .dataframe thead th {\n",
       "        text-align: right;\n",
       "    }\n",
       "</style>\n",
       "<table border=\"1\" class=\"dataframe\">\n",
       "  <thead>\n",
       "    <tr style=\"text-align: right;\">\n",
       "      <th></th>\n",
       "      <th>Brand</th>\n",
       "      <th>Product</th>\n",
       "      <th>Price</th>\n",
       "      <th>Reviews_Count</th>\n",
       "      <th>Hearts</th>\n",
       "      <th>Clean</th>\n",
       "      <th>Allure</th>\n",
       "    </tr>\n",
       "  </thead>\n",
       "  <tbody>\n",
       "    <tr>\n",
       "      <th>11</th>\n",
       "      <td>BENEFIT COSMETICS</td>\n",
       "      <td>Gimme Brow+ Volumizing Eyebrow Gel</td>\n",
       "      <td>24.0</td>\n",
       "      <td>4000.0</td>\n",
       "      <td>168.2</td>\n",
       "      <td>0</td>\n",
       "      <td>1</td>\n",
       "    </tr>\n",
       "    <tr>\n",
       "      <th>148</th>\n",
       "      <td>BIOSSANCE</td>\n",
       "      <td>Squalane + Antioxidant Cleansing Oil</td>\n",
       "      <td>30.0</td>\n",
       "      <td>308.0</td>\n",
       "      <td>21.3</td>\n",
       "      <td>1</td>\n",
       "      <td>0</td>\n",
       "    </tr>\n",
       "    <tr>\n",
       "      <th>1</th>\n",
       "      <td>ESTÉE LAUDER</td>\n",
       "      <td>Double Wear Stay-in-Place Foundation</td>\n",
       "      <td>43.0</td>\n",
       "      <td>5000.0</td>\n",
       "      <td>397.9</td>\n",
       "      <td>0</td>\n",
       "      <td>1</td>\n",
       "    </tr>\n",
       "    <tr>\n",
       "      <th>49</th>\n",
       "      <td>SEPHORA COLLECTION</td>\n",
       "      <td>PRO Angled Liner Brush #22</td>\n",
       "      <td>16.0</td>\n",
       "      <td>258.0</td>\n",
       "      <td>11.4</td>\n",
       "      <td>0</td>\n",
       "      <td>1</td>\n",
       "    </tr>\n",
       "    <tr>\n",
       "      <th>111</th>\n",
       "      <td>DIOR</td>\n",
       "      <td>Rouge Dior Ultra Rouge Lipstick</td>\n",
       "      <td>38.0</td>\n",
       "      <td>83.0</td>\n",
       "      <td>30.6</td>\n",
       "      <td>0</td>\n",
       "      <td>0</td>\n",
       "    </tr>\n",
       "  </tbody>\n",
       "</table>\n",
       "</div>"
      ],
      "text/plain": [
       "                  Brand                               Product  Price  \\\n",
       "11    BENEFIT COSMETICS    Gimme Brow+ Volumizing Eyebrow Gel   24.0   \n",
       "148           BIOSSANCE  Squalane + Antioxidant Cleansing Oil   30.0   \n",
       "1          ESTÉE LAUDER  Double Wear Stay-in-Place Foundation   43.0   \n",
       "49   SEPHORA COLLECTION            PRO Angled Liner Brush #22   16.0   \n",
       "111                DIOR       Rouge Dior Ultra Rouge Lipstick   38.0   \n",
       "\n",
       "     Reviews_Count  Hearts  Clean  Allure  \n",
       "11          4000.0   168.2      0       1  \n",
       "148          308.0    21.3      1       0  \n",
       "1           5000.0   397.9      0       1  \n",
       "49           258.0    11.4      0       1  \n",
       "111           83.0    30.6      0       0  "
      ]
     },
     "execution_count": 42,
     "metadata": {},
     "output_type": "execute_result"
    }
   ],
   "source": [
    "edf.head()"
   ]
  },
  {
   "cell_type": "code",
   "execution_count": 59,
   "metadata": {},
   "outputs": [
    {
     "data": {
      "application/vnd.plotly.v1+json": {
       "config": {
        "plotlyServerURL": "https://plot.ly"
       },
       "data": [
        {
         "dimensions": [
          {
           "axis": {
            "matches": true
           },
           "label": "Price",
           "values": [
            24,
            30,
            43,
            16,
            38,
            45,
            38,
            75,
            14,
            50,
            54,
            22,
            50,
            22,
            58,
            30,
            23,
            33,
            27,
            80,
            34,
            68,
            46,
            28,
            37,
            21,
            54,
            60,
            6.8,
            24,
            33,
            82,
            24,
            549,
            19,
            16,
            100,
            36,
            72,
            260,
            15,
            34,
            18,
            38,
            126,
            20,
            27,
            32,
            41,
            92,
            32,
            5.8,
            20,
            249,
            34,
            48,
            145,
            45,
            199,
            85,
            135,
            12,
            39,
            80,
            35,
            35,
            58,
            34,
            15,
            96,
            13,
            10.99,
            45,
            30,
            28,
            44,
            25,
            38,
            72,
            18,
            68,
            34,
            98,
            27,
            54,
            39,
            17,
            28.5,
            58,
            21,
            32,
            9,
            38,
            35,
            24,
            42,
            43,
            54,
            26,
            120,
            30,
            23,
            32,
            27,
            70,
            32,
            33,
            19,
            48,
            5.8,
            125,
            139,
            72,
            68,
            32,
            22,
            68,
            22,
            22,
            59,
            26,
            42,
            72,
            12,
            22,
            88,
            95,
            39,
            26,
            48,
            24,
            100,
            18,
            39,
            35,
            38,
            29,
            38,
            66,
            40,
            38,
            54,
            53,
            58,
            325,
            56,
            42,
            39,
            32,
            34,
            370,
            44,
            31,
            20,
            9,
            44,
            64,
            20,
            35,
            25,
            25,
            20
           ]
          },
          {
           "axis": {
            "matches": true
           },
           "label": "Reviews_Count",
           "values": [
            4000,
            308,
            5000,
            258,
            83,
            130,
            53,
            196,
            341,
            84,
            27,
            78,
            9,
            164,
            184,
            144,
            124,
            906,
            117,
            6,
            371,
            310,
            18,
            683,
            214,
            283,
            593,
            105,
            1000,
            911,
            9000,
            28,
            74,
            456,
            962,
            56,
            124,
            488,
            20,
            13,
            11,
            4000,
            2000,
            79,
            214,
            27,
            2000,
            10,
            40,
            20,
            16,
            1,
            8000,
            252,
            817,
            697,
            131,
            84,
            16,
            0,
            98,
            3000,
            222,
            1000,
            14000,
            73,
            5,
            878,
            331,
            499,
            296,
            14,
            43,
            185,
            245,
            158,
            9,
            153,
            442,
            267,
            1000,
            19,
            1000,
            42,
            35,
            166,
            730,
            667,
            17,
            1000,
            1000,
            52,
            1000,
            319,
            391,
            193,
            1000,
            21,
            827,
            72,
            1000,
            14000,
            242,
            34,
            38,
            200,
            2,
            2000,
            8,
            471,
            384,
            155,
            35,
            102,
            2000,
            45,
            689,
            1000,
            233,
            1000,
            393,
            579,
            585,
            179,
            173,
            144,
            74,
            149,
            154,
            45,
            235,
            352,
            1000,
            2,
            2000,
            362,
            1000,
            90,
            13,
            16,
            1000,
            17,
            963,
            287,
            30,
            24,
            172,
            475,
            132,
            180,
            88,
            27,
            1000,
            82,
            973,
            165,
            748,
            1000,
            194,
            4000,
            2000,
            8000
           ]
          },
          {
           "axis": {
            "matches": true
           },
           "label": "Hearts",
           "values": [
            168.2,
            21.3,
            397.9,
            11.4,
            30.6,
            10.6,
            10.3,
            1.7,
            24.1,
            4.1,
            5.3,
            14.7,
            1.1,
            26.8,
            8.4,
            9.5,
            6.3,
            34.1,
            10.4,
            812,
            23.8,
            13.2,
            3.4,
            44.4,
            35.8,
            13.6,
            21.1,
            11000,
            168.4,
            49.7,
            496.9,
            6.8,
            4.8,
            43.8,
            21.9,
            14.5,
            25.6,
            21.1,
            4.6,
            2.4,
            789,
            267.2,
            329.5,
            6.9,
            5.8,
            3.8,
            16.7,
            1.4,
            9.5,
            5.1,
            2.2,
            2000,
            309.1,
            9.6,
            46.4,
            69.4,
            3.4,
            3.6,
            4.6,
            607,
            4000,
            62.8,
            27.9,
            89.9,
            603.4,
            11.4,
            1.7,
            43.2,
            7.4,
            6.1,
            16.5,
            3.1,
            7.4,
            1.7,
            12.6,
            27.2,
            1.4,
            7.9,
            48.4,
            63.4,
            82.9,
            3.1,
            15.6,
            15.3,
            7000,
            67.3,
            168.2,
            20.1,
            1.4,
            110.2,
            20.7,
            3.4,
            91.2,
            35.9,
            18.9,
            7.6,
            34.7,
            3.9,
            34.4,
            11.4,
            66.3,
            643000,
            19000,
            8000,
            2.7,
            51.4,
            371,
            97000,
            1.3,
            56.1,
            61.4,
            10.9,
            9.4,
            5.9,
            16.1,
            23.8,
            32.7,
            14.9,
            61.9,
            99.1,
            50.5,
            37000,
            52.2,
            18000,
            30.8,
            13.4,
            5000,
            41.2,
            22.4,
            4.2,
            18.8,
            34000,
            51.7,
            2.7,
            23.8,
            17.6,
            67.3,
            7.5,
            797,
            15.6,
            171.7,
            1.4,
            42.2,
            23.7,
            7.1,
            3.7,
            8.7,
            15.9,
            15.1,
            20.1,
            20.2,
            6.5,
            38000,
            7000,
            157.7,
            23.5,
            63.5,
            52.4,
            11.2,
            51.2,
            42.6,
            325.3
           ]
          }
         ],
         "hoverlabel": {
          "namelength": 0
         },
         "hovertemplate": "%{xaxis.title.text}=%{x}<br>%{yaxis.title.text}=%{y}<br>Allure=%{marker.color}",
         "legendgroup": "",
         "marker": {
          "color": [
           1,
           0,
           1,
           1,
           0,
           1,
           1,
           1,
           0,
           1,
           0,
           1,
           0,
           0,
           0,
           1,
           0,
           0,
           0,
           0,
           0,
           1,
           1,
           1,
           0,
           1,
           0,
           0,
           1,
           1,
           1,
           0,
           1,
           1,
           0,
           1,
           1,
           0,
           0,
           1,
           0,
           0,
           1,
           0,
           1,
           0,
           1,
           0,
           0,
           0,
           0,
           0,
           1,
           1,
           1,
           1,
           0,
           1,
           1,
           0,
           0,
           0,
           1,
           0,
           1,
           1,
           1,
           1,
           1,
           1,
           0,
           1,
           0,
           1,
           1,
           0,
           0,
           0,
           0,
           0,
           0,
           1,
           0,
           0,
           0,
           1,
           1,
           0,
           0,
           1,
           1,
           0,
           1,
           1,
           0,
           0,
           0,
           0,
           0,
           1,
           1,
           1,
           1,
           0,
           0,
           0,
           1,
           1,
           0,
           0,
           1,
           1,
           0,
           0,
           1,
           0,
           0,
           0,
           0,
           0,
           0,
           1,
           0,
           0,
           0,
           1,
           0,
           1,
           1,
           0,
           1,
           1,
           0,
           0,
           1,
           0,
           1,
           1,
           0,
           0,
           1,
           0,
           1,
           0,
           1,
           0,
           1,
           1,
           1,
           1,
           1,
           1,
           1,
           1,
           1,
           0,
           1,
           0,
           0,
           1,
           1,
           1
          ],
          "coloraxis": "coloraxis",
          "symbol": "circle"
         },
         "name": "",
         "showlegend": false,
         "type": "splom"
        }
       ],
       "layout": {
        "coloraxis": {
         "colorbar": {
          "title": {
           "text": "Allure"
          }
         },
         "colorscale": [
          [
           0,
           "rgb(0,0,255)"
          ],
          [
           0.1,
           "rgb(51,153,255)"
          ],
          [
           0.2,
           "rgb(102,204,255)"
          ],
          [
           0.3,
           "rgb(153,204,255)"
          ],
          [
           0.4,
           "rgb(204,204,255)"
          ],
          [
           0.5,
           "rgb(255,255,255)"
          ],
          [
           0.6,
           "rgb(255,204,255)"
          ],
          [
           0.7,
           "rgb(255,153,255)"
          ],
          [
           0.8,
           "rgb(255,102,204)"
          ],
          [
           0.9,
           "rgb(255,102,102)"
          ],
          [
           1,
           "rgb(255,0,0)"
          ]
         ]
        },
        "dragmode": "select",
        "legend": {
         "tracegroupgap": 0
        },
        "margin": {
         "t": 60
        },
        "template": {
         "data": {
          "bar": [
           {
            "error_x": {
             "color": "#2a3f5f"
            },
            "error_y": {
             "color": "#2a3f5f"
            },
            "marker": {
             "line": {
              "color": "#E5ECF6",
              "width": 0.5
             }
            },
            "type": "bar"
           }
          ],
          "barpolar": [
           {
            "marker": {
             "line": {
              "color": "#E5ECF6",
              "width": 0.5
             }
            },
            "type": "barpolar"
           }
          ],
          "carpet": [
           {
            "aaxis": {
             "endlinecolor": "#2a3f5f",
             "gridcolor": "white",
             "linecolor": "white",
             "minorgridcolor": "white",
             "startlinecolor": "#2a3f5f"
            },
            "baxis": {
             "endlinecolor": "#2a3f5f",
             "gridcolor": "white",
             "linecolor": "white",
             "minorgridcolor": "white",
             "startlinecolor": "#2a3f5f"
            },
            "type": "carpet"
           }
          ],
          "choropleth": [
           {
            "colorbar": {
             "outlinewidth": 0,
             "ticks": ""
            },
            "type": "choropleth"
           }
          ],
          "contour": [
           {
            "colorbar": {
             "outlinewidth": 0,
             "ticks": ""
            },
            "colorscale": [
             [
              0,
              "#0d0887"
             ],
             [
              0.1111111111111111,
              "#46039f"
             ],
             [
              0.2222222222222222,
              "#7201a8"
             ],
             [
              0.3333333333333333,
              "#9c179e"
             ],
             [
              0.4444444444444444,
              "#bd3786"
             ],
             [
              0.5555555555555556,
              "#d8576b"
             ],
             [
              0.6666666666666666,
              "#ed7953"
             ],
             [
              0.7777777777777778,
              "#fb9f3a"
             ],
             [
              0.8888888888888888,
              "#fdca26"
             ],
             [
              1,
              "#f0f921"
             ]
            ],
            "type": "contour"
           }
          ],
          "contourcarpet": [
           {
            "colorbar": {
             "outlinewidth": 0,
             "ticks": ""
            },
            "type": "contourcarpet"
           }
          ],
          "heatmap": [
           {
            "colorbar": {
             "outlinewidth": 0,
             "ticks": ""
            },
            "colorscale": [
             [
              0,
              "#0d0887"
             ],
             [
              0.1111111111111111,
              "#46039f"
             ],
             [
              0.2222222222222222,
              "#7201a8"
             ],
             [
              0.3333333333333333,
              "#9c179e"
             ],
             [
              0.4444444444444444,
              "#bd3786"
             ],
             [
              0.5555555555555556,
              "#d8576b"
             ],
             [
              0.6666666666666666,
              "#ed7953"
             ],
             [
              0.7777777777777778,
              "#fb9f3a"
             ],
             [
              0.8888888888888888,
              "#fdca26"
             ],
             [
              1,
              "#f0f921"
             ]
            ],
            "type": "heatmap"
           }
          ],
          "heatmapgl": [
           {
            "colorbar": {
             "outlinewidth": 0,
             "ticks": ""
            },
            "colorscale": [
             [
              0,
              "#0d0887"
             ],
             [
              0.1111111111111111,
              "#46039f"
             ],
             [
              0.2222222222222222,
              "#7201a8"
             ],
             [
              0.3333333333333333,
              "#9c179e"
             ],
             [
              0.4444444444444444,
              "#bd3786"
             ],
             [
              0.5555555555555556,
              "#d8576b"
             ],
             [
              0.6666666666666666,
              "#ed7953"
             ],
             [
              0.7777777777777778,
              "#fb9f3a"
             ],
             [
              0.8888888888888888,
              "#fdca26"
             ],
             [
              1,
              "#f0f921"
             ]
            ],
            "type": "heatmapgl"
           }
          ],
          "histogram": [
           {
            "marker": {
             "colorbar": {
              "outlinewidth": 0,
              "ticks": ""
             }
            },
            "type": "histogram"
           }
          ],
          "histogram2d": [
           {
            "colorbar": {
             "outlinewidth": 0,
             "ticks": ""
            },
            "colorscale": [
             [
              0,
              "#0d0887"
             ],
             [
              0.1111111111111111,
              "#46039f"
             ],
             [
              0.2222222222222222,
              "#7201a8"
             ],
             [
              0.3333333333333333,
              "#9c179e"
             ],
             [
              0.4444444444444444,
              "#bd3786"
             ],
             [
              0.5555555555555556,
              "#d8576b"
             ],
             [
              0.6666666666666666,
              "#ed7953"
             ],
             [
              0.7777777777777778,
              "#fb9f3a"
             ],
             [
              0.8888888888888888,
              "#fdca26"
             ],
             [
              1,
              "#f0f921"
             ]
            ],
            "type": "histogram2d"
           }
          ],
          "histogram2dcontour": [
           {
            "colorbar": {
             "outlinewidth": 0,
             "ticks": ""
            },
            "colorscale": [
             [
              0,
              "#0d0887"
             ],
             [
              0.1111111111111111,
              "#46039f"
             ],
             [
              0.2222222222222222,
              "#7201a8"
             ],
             [
              0.3333333333333333,
              "#9c179e"
             ],
             [
              0.4444444444444444,
              "#bd3786"
             ],
             [
              0.5555555555555556,
              "#d8576b"
             ],
             [
              0.6666666666666666,
              "#ed7953"
             ],
             [
              0.7777777777777778,
              "#fb9f3a"
             ],
             [
              0.8888888888888888,
              "#fdca26"
             ],
             [
              1,
              "#f0f921"
             ]
            ],
            "type": "histogram2dcontour"
           }
          ],
          "mesh3d": [
           {
            "colorbar": {
             "outlinewidth": 0,
             "ticks": ""
            },
            "type": "mesh3d"
           }
          ],
          "parcoords": [
           {
            "line": {
             "colorbar": {
              "outlinewidth": 0,
              "ticks": ""
             }
            },
            "type": "parcoords"
           }
          ],
          "pie": [
           {
            "automargin": true,
            "type": "pie"
           }
          ],
          "scatter": [
           {
            "marker": {
             "colorbar": {
              "outlinewidth": 0,
              "ticks": ""
             }
            },
            "type": "scatter"
           }
          ],
          "scatter3d": [
           {
            "line": {
             "colorbar": {
              "outlinewidth": 0,
              "ticks": ""
             }
            },
            "marker": {
             "colorbar": {
              "outlinewidth": 0,
              "ticks": ""
             }
            },
            "type": "scatter3d"
           }
          ],
          "scattercarpet": [
           {
            "marker": {
             "colorbar": {
              "outlinewidth": 0,
              "ticks": ""
             }
            },
            "type": "scattercarpet"
           }
          ],
          "scattergeo": [
           {
            "marker": {
             "colorbar": {
              "outlinewidth": 0,
              "ticks": ""
             }
            },
            "type": "scattergeo"
           }
          ],
          "scattergl": [
           {
            "marker": {
             "colorbar": {
              "outlinewidth": 0,
              "ticks": ""
             }
            },
            "type": "scattergl"
           }
          ],
          "scattermapbox": [
           {
            "marker": {
             "colorbar": {
              "outlinewidth": 0,
              "ticks": ""
             }
            },
            "type": "scattermapbox"
           }
          ],
          "scatterpolar": [
           {
            "marker": {
             "colorbar": {
              "outlinewidth": 0,
              "ticks": ""
             }
            },
            "type": "scatterpolar"
           }
          ],
          "scatterpolargl": [
           {
            "marker": {
             "colorbar": {
              "outlinewidth": 0,
              "ticks": ""
             }
            },
            "type": "scatterpolargl"
           }
          ],
          "scatterternary": [
           {
            "marker": {
             "colorbar": {
              "outlinewidth": 0,
              "ticks": ""
             }
            },
            "type": "scatterternary"
           }
          ],
          "surface": [
           {
            "colorbar": {
             "outlinewidth": 0,
             "ticks": ""
            },
            "colorscale": [
             [
              0,
              "#0d0887"
             ],
             [
              0.1111111111111111,
              "#46039f"
             ],
             [
              0.2222222222222222,
              "#7201a8"
             ],
             [
              0.3333333333333333,
              "#9c179e"
             ],
             [
              0.4444444444444444,
              "#bd3786"
             ],
             [
              0.5555555555555556,
              "#d8576b"
             ],
             [
              0.6666666666666666,
              "#ed7953"
             ],
             [
              0.7777777777777778,
              "#fb9f3a"
             ],
             [
              0.8888888888888888,
              "#fdca26"
             ],
             [
              1,
              "#f0f921"
             ]
            ],
            "type": "surface"
           }
          ],
          "table": [
           {
            "cells": {
             "fill": {
              "color": "#EBF0F8"
             },
             "line": {
              "color": "white"
             }
            },
            "header": {
             "fill": {
              "color": "#C8D4E3"
             },
             "line": {
              "color": "white"
             }
            },
            "type": "table"
           }
          ]
         },
         "layout": {
          "annotationdefaults": {
           "arrowcolor": "#2a3f5f",
           "arrowhead": 0,
           "arrowwidth": 1
          },
          "coloraxis": {
           "colorbar": {
            "outlinewidth": 0,
            "ticks": ""
           }
          },
          "colorscale": {
           "diverging": [
            [
             0,
             "#8e0152"
            ],
            [
             0.1,
             "#c51b7d"
            ],
            [
             0.2,
             "#de77ae"
            ],
            [
             0.3,
             "#f1b6da"
            ],
            [
             0.4,
             "#fde0ef"
            ],
            [
             0.5,
             "#f7f7f7"
            ],
            [
             0.6,
             "#e6f5d0"
            ],
            [
             0.7,
             "#b8e186"
            ],
            [
             0.8,
             "#7fbc41"
            ],
            [
             0.9,
             "#4d9221"
            ],
            [
             1,
             "#276419"
            ]
           ],
           "sequential": [
            [
             0,
             "#0d0887"
            ],
            [
             0.1111111111111111,
             "#46039f"
            ],
            [
             0.2222222222222222,
             "#7201a8"
            ],
            [
             0.3333333333333333,
             "#9c179e"
            ],
            [
             0.4444444444444444,
             "#bd3786"
            ],
            [
             0.5555555555555556,
             "#d8576b"
            ],
            [
             0.6666666666666666,
             "#ed7953"
            ],
            [
             0.7777777777777778,
             "#fb9f3a"
            ],
            [
             0.8888888888888888,
             "#fdca26"
            ],
            [
             1,
             "#f0f921"
            ]
           ],
           "sequentialminus": [
            [
             0,
             "#0d0887"
            ],
            [
             0.1111111111111111,
             "#46039f"
            ],
            [
             0.2222222222222222,
             "#7201a8"
            ],
            [
             0.3333333333333333,
             "#9c179e"
            ],
            [
             0.4444444444444444,
             "#bd3786"
            ],
            [
             0.5555555555555556,
             "#d8576b"
            ],
            [
             0.6666666666666666,
             "#ed7953"
            ],
            [
             0.7777777777777778,
             "#fb9f3a"
            ],
            [
             0.8888888888888888,
             "#fdca26"
            ],
            [
             1,
             "#f0f921"
            ]
           ]
          },
          "colorway": [
           "#636efa",
           "#EF553B",
           "#00cc96",
           "#ab63fa",
           "#FFA15A",
           "#19d3f3",
           "#FF6692",
           "#B6E880",
           "#FF97FF",
           "#FECB52"
          ],
          "font": {
           "color": "#2a3f5f"
          },
          "geo": {
           "bgcolor": "white",
           "lakecolor": "white",
           "landcolor": "#E5ECF6",
           "showlakes": true,
           "showland": true,
           "subunitcolor": "white"
          },
          "hoverlabel": {
           "align": "left"
          },
          "hovermode": "closest",
          "mapbox": {
           "style": "light"
          },
          "paper_bgcolor": "white",
          "plot_bgcolor": "#E5ECF6",
          "polar": {
           "angularaxis": {
            "gridcolor": "white",
            "linecolor": "white",
            "ticks": ""
           },
           "bgcolor": "#E5ECF6",
           "radialaxis": {
            "gridcolor": "white",
            "linecolor": "white",
            "ticks": ""
           }
          },
          "scene": {
           "xaxis": {
            "backgroundcolor": "#E5ECF6",
            "gridcolor": "white",
            "gridwidth": 2,
            "linecolor": "white",
            "showbackground": true,
            "ticks": "",
            "zerolinecolor": "white"
           },
           "yaxis": {
            "backgroundcolor": "#E5ECF6",
            "gridcolor": "white",
            "gridwidth": 2,
            "linecolor": "white",
            "showbackground": true,
            "ticks": "",
            "zerolinecolor": "white"
           },
           "zaxis": {
            "backgroundcolor": "#E5ECF6",
            "gridcolor": "white",
            "gridwidth": 2,
            "linecolor": "white",
            "showbackground": true,
            "ticks": "",
            "zerolinecolor": "white"
           }
          },
          "shapedefaults": {
           "line": {
            "color": "#2a3f5f"
           }
          },
          "ternary": {
           "aaxis": {
            "gridcolor": "white",
            "linecolor": "white",
            "ticks": ""
           },
           "baxis": {
            "gridcolor": "white",
            "linecolor": "white",
            "ticks": ""
           },
           "bgcolor": "#E5ECF6",
           "caxis": {
            "gridcolor": "white",
            "linecolor": "white",
            "ticks": ""
           }
          },
          "title": {
           "x": 0.05
          },
          "xaxis": {
           "automargin": true,
           "gridcolor": "white",
           "linecolor": "white",
           "ticks": "",
           "title": {
            "standoff": 15
           },
           "zerolinecolor": "white",
           "zerolinewidth": 2
          },
          "yaxis": {
           "automargin": true,
           "gridcolor": "white",
           "linecolor": "white",
           "ticks": "",
           "title": {
            "standoff": 15
           },
           "zerolinecolor": "white",
           "zerolinewidth": 2
          }
         }
        }
       }
      },
      "text/html": [
       "<div>\n",
       "        \n",
       "        \n",
       "            <div id=\"dbbe26d2-9d78-4d9f-9cb6-8f5f6feb3224\" class=\"plotly-graph-div\" style=\"height:525px; width:100%;\"></div>\n",
       "            <script type=\"text/javascript\">\n",
       "                require([\"plotly\"], function(Plotly) {\n",
       "                    window.PLOTLYENV=window.PLOTLYENV || {};\n",
       "                    \n",
       "                if (document.getElementById(\"dbbe26d2-9d78-4d9f-9cb6-8f5f6feb3224\")) {\n",
       "                    Plotly.newPlot(\n",
       "                        'dbbe26d2-9d78-4d9f-9cb6-8f5f6feb3224',\n",
       "                        [{\"dimensions\": [{\"axis\": {\"matches\": true}, \"label\": \"Price\", \"values\": [24.0, 30.0, 43.0, 16.0, 38.0, 45.0, 38.0, 75.0, 14.0, 50.0, 54.0, 22.0, 50.0, 22.0, 58.0, 30.0, 23.0, 33.0, 27.0, 80.0, 34.0, 68.0, 46.0, 28.0, 37.0, 21.0, 54.0, 60.0, 6.8, 24.0, 33.0, 82.0, 24.0, 549.0, 19.0, 16.0, 100.0, 36.0, 72.0, 260.0, 15.0, 34.0, 18.0, 38.0, 126.0, 20.0, 27.0, 32.0, 41.0, 92.0, 32.0, 5.8, 20.0, 249.0, 34.0, 48.0, 145.0, 45.0, 199.0, 85.0, 135.0, 12.0, 39.0, 80.0, 35.0, 35.0, 58.0, 34.0, 15.0, 96.0, 13.0, 10.99, 45.0, 30.0, 28.0, 44.0, 25.0, 38.0, 72.0, 18.0, 68.0, 34.0, 98.0, 27.0, 54.0, 39.0, 17.0, 28.5, 58.0, 21.0, 32.0, 9.0, 38.0, 35.0, 24.0, 42.0, 43.0, 54.0, 26.0, 120.0, 30.0, 23.0, 32.0, 27.0, 70.0, 32.0, 33.0, 19.0, 48.0, 5.8, 125.0, 139.0, 72.0, 68.0, 32.0, 22.0, 68.0, 22.0, 22.0, 59.0, 26.0, 42.0, 72.0, 12.0, 22.0, 88.0, 95.0, 39.0, 26.0, 48.0, 24.0, 100.0, 18.0, 39.0, 35.0, 38.0, 29.0, 38.0, 66.0, 40.0, 38.0, 54.0, 53.0, 58.0, 325.0, 56.0, 42.0, 39.0, 32.0, 34.0, 370.0, 44.0, 31.0, 20.0, 9.0, 44.0, 64.0, 20.0, 35.0, 25.0, 25.0, 20.0]}, {\"axis\": {\"matches\": true}, \"label\": \"Reviews_Count\", \"values\": [4000.0, 308.0, 5000.0, 258.0, 83.0, 130.0, 53.0, 196.0, 341.0, 84.0, 27.0, 78.0, 9.0, 164.0, 184.0, 144.0, 124.0, 906.0, 117.0, 6.0, 371.0, 310.0, 18.0, 683.0, 214.0, 283.0, 593.0, 105.0, 1000.0, 911.0, 9000.0, 28.0, 74.0, 456.0, 962.0, 56.0, 124.0, 488.0, 20.0, 13.0, 11.0, 4000.0, 2000.0, 79.0, 214.0, 27.0, 2000.0, 10.0, 40.0, 20.0, 16.0, 1.0, 8000.0, 252.0, 817.0, 697.0, 131.0, 84.0, 16.0, 0.0, 98.0, 3000.0, 222.0, 1000.0, 14000.0, 73.0, 5.0, 878.0, 331.0, 499.0, 296.0, 14.0, 43.0, 185.0, 245.0, 158.0, 9.0, 153.0, 442.0, 267.0, 1000.0, 19.0, 1000.0, 42.0, 35.0, 166.0, 730.0, 667.0, 17.0, 1000.0, 1000.0, 52.0, 1000.0, 319.0, 391.0, 193.0, 1000.0, 21.0, 827.0, 72.0, 1000.0, 14000.0, 242.0, 34.0, 38.0, 200.0, 2.0, 2000.0, 8.0, 471.0, 384.0, 155.0, 35.0, 102.0, 2000.0, 45.0, 689.0, 1000.0, 233.0, 1000.0, 393.0, 579.0, 585.0, 179.0, 173.0, 144.0, 74.0, 149.0, 154.0, 45.0, 235.0, 352.0, 1000.0, 2.0, 2000.0, 362.0, 1000.0, 90.0, 13.0, 16.0, 1000.0, 17.0, 963.0, 287.0, 30.0, 24.0, 172.0, 475.0, 132.0, 180.0, 88.0, 27.0, 1000.0, 82.0, 973.0, 165.0, 748.0, 1000.0, 194.0, 4000.0, 2000.0, 8000.0]}, {\"axis\": {\"matches\": true}, \"label\": \"Hearts\", \"values\": [168.2, 21.3, 397.9, 11.4, 30.6, 10.6, 10.3, 1.7, 24.1, 4.1, 5.3, 14.7, 1.1, 26.8, 8.4, 9.5, 6.3, 34.1, 10.4, 812.0, 23.8, 13.2, 3.4, 44.4, 35.8, 13.6, 21.1, 11000.0, 168.4, 49.7, 496.9, 6.8, 4.8, 43.8, 21.9, 14.5, 25.6, 21.1, 4.6, 2.4, 789.0, 267.2, 329.5, 6.9, 5.8, 3.8, 16.7, 1.4, 9.5, 5.1, 2.2, 2000.0, 309.1, 9.6, 46.4, 69.4, 3.4, 3.6, 4.6, 607.0, 4000.0, 62.8, 27.9, 89.9, 603.4, 11.4, 1.7, 43.2, 7.4, 6.1, 16.5, 3.1, 7.4, 1.7, 12.6, 27.2, 1.4, 7.9, 48.4, 63.4, 82.9, 3.1, 15.6, 15.3, 7000.0, 67.3, 168.2, 20.1, 1.4, 110.2, 20.7, 3.4, 91.2, 35.9, 18.9, 7.6, 34.7, 3.9, 34.4, 11.4, 66.3, 643000.0, 19000.0, 8000.0, 2.7, 51.4, 371.0, 97000.0, 1.3, 56.1, 61.4, 10.9, 9.4, 5.9, 16.1, 23.8, 32.7, 14.9, 61.9, 99.1, 50.5, 37000.0, 52.2, 18000.0, 30.8, 13.4, 5000.0, 41.2, 22.4, 4.2, 18.8, 34000.0, 51.7, 2.7, 23.8, 17.6, 67.3, 7.5, 797.0, 15.6, 171.7, 1.4, 42.2, 23.7, 7.1, 3.7, 8.7, 15.9, 15.1, 20.1, 20.2, 6.5, 38000.0, 7000.0, 157.7, 23.5, 63.5, 52.4, 11.2, 51.2, 42.6, 325.3]}], \"hoverlabel\": {\"namelength\": 0}, \"hovertemplate\": \"%{xaxis.title.text}=%{x}<br>%{yaxis.title.text}=%{y}<br>Allure=%{marker.color}\", \"legendgroup\": \"\", \"marker\": {\"color\": [1, 0, 1, 1, 0, 1, 1, 1, 0, 1, 0, 1, 0, 0, 0, 1, 0, 0, 0, 0, 0, 1, 1, 1, 0, 1, 0, 0, 1, 1, 1, 0, 1, 1, 0, 1, 1, 0, 0, 1, 0, 0, 1, 0, 1, 0, 1, 0, 0, 0, 0, 0, 1, 1, 1, 1, 0, 1, 1, 0, 0, 0, 1, 0, 1, 1, 1, 1, 1, 1, 0, 1, 0, 1, 1, 0, 0, 0, 0, 0, 0, 1, 0, 0, 0, 1, 1, 0, 0, 1, 1, 0, 1, 1, 0, 0, 0, 0, 0, 1, 1, 1, 1, 0, 0, 0, 1, 1, 0, 0, 1, 1, 0, 0, 1, 0, 0, 0, 0, 0, 0, 1, 0, 0, 0, 1, 0, 1, 1, 0, 1, 1, 0, 0, 1, 0, 1, 1, 0, 0, 1, 0, 1, 0, 1, 0, 1, 1, 1, 1, 1, 1, 1, 1, 1, 0, 1, 0, 0, 1, 1, 1], \"coloraxis\": \"coloraxis\", \"symbol\": \"circle\"}, \"name\": \"\", \"showlegend\": false, \"type\": \"splom\"}],\n",
       "                        {\"coloraxis\": {\"colorbar\": {\"title\": {\"text\": \"Allure\"}}, \"colorscale\": [[0.0, \"rgb(0,0,255)\"], [0.1, \"rgb(51,153,255)\"], [0.2, \"rgb(102,204,255)\"], [0.3, \"rgb(153,204,255)\"], [0.4, \"rgb(204,204,255)\"], [0.5, \"rgb(255,255,255)\"], [0.6, \"rgb(255,204,255)\"], [0.7, \"rgb(255,153,255)\"], [0.8, \"rgb(255,102,204)\"], [0.9, \"rgb(255,102,102)\"], [1.0, \"rgb(255,0,0)\"]]}, \"dragmode\": \"select\", \"legend\": {\"tracegroupgap\": 0}, \"margin\": {\"t\": 60}, \"template\": {\"data\": {\"bar\": [{\"error_x\": {\"color\": \"#2a3f5f\"}, \"error_y\": {\"color\": \"#2a3f5f\"}, \"marker\": {\"line\": {\"color\": \"#E5ECF6\", \"width\": 0.5}}, \"type\": \"bar\"}], \"barpolar\": [{\"marker\": {\"line\": {\"color\": \"#E5ECF6\", \"width\": 0.5}}, \"type\": \"barpolar\"}], \"carpet\": [{\"aaxis\": {\"endlinecolor\": \"#2a3f5f\", \"gridcolor\": \"white\", \"linecolor\": \"white\", \"minorgridcolor\": \"white\", \"startlinecolor\": \"#2a3f5f\"}, \"baxis\": {\"endlinecolor\": \"#2a3f5f\", \"gridcolor\": \"white\", \"linecolor\": \"white\", \"minorgridcolor\": \"white\", \"startlinecolor\": \"#2a3f5f\"}, \"type\": \"carpet\"}], \"choropleth\": [{\"colorbar\": {\"outlinewidth\": 0, \"ticks\": \"\"}, \"type\": \"choropleth\"}], \"contour\": [{\"colorbar\": {\"outlinewidth\": 0, \"ticks\": \"\"}, \"colorscale\": [[0.0, \"#0d0887\"], [0.1111111111111111, \"#46039f\"], [0.2222222222222222, \"#7201a8\"], [0.3333333333333333, \"#9c179e\"], [0.4444444444444444, \"#bd3786\"], [0.5555555555555556, \"#d8576b\"], [0.6666666666666666, \"#ed7953\"], [0.7777777777777778, \"#fb9f3a\"], [0.8888888888888888, \"#fdca26\"], [1.0, \"#f0f921\"]], \"type\": \"contour\"}], \"contourcarpet\": [{\"colorbar\": {\"outlinewidth\": 0, \"ticks\": \"\"}, \"type\": \"contourcarpet\"}], \"heatmap\": [{\"colorbar\": {\"outlinewidth\": 0, \"ticks\": \"\"}, \"colorscale\": [[0.0, \"#0d0887\"], [0.1111111111111111, \"#46039f\"], [0.2222222222222222, \"#7201a8\"], [0.3333333333333333, \"#9c179e\"], [0.4444444444444444, \"#bd3786\"], [0.5555555555555556, \"#d8576b\"], [0.6666666666666666, \"#ed7953\"], [0.7777777777777778, \"#fb9f3a\"], [0.8888888888888888, \"#fdca26\"], [1.0, \"#f0f921\"]], \"type\": \"heatmap\"}], \"heatmapgl\": [{\"colorbar\": {\"outlinewidth\": 0, \"ticks\": \"\"}, \"colorscale\": [[0.0, \"#0d0887\"], [0.1111111111111111, \"#46039f\"], [0.2222222222222222, \"#7201a8\"], [0.3333333333333333, \"#9c179e\"], [0.4444444444444444, \"#bd3786\"], [0.5555555555555556, \"#d8576b\"], [0.6666666666666666, \"#ed7953\"], [0.7777777777777778, \"#fb9f3a\"], [0.8888888888888888, \"#fdca26\"], [1.0, \"#f0f921\"]], \"type\": \"heatmapgl\"}], \"histogram\": [{\"marker\": {\"colorbar\": {\"outlinewidth\": 0, \"ticks\": \"\"}}, \"type\": \"histogram\"}], \"histogram2d\": [{\"colorbar\": {\"outlinewidth\": 0, \"ticks\": \"\"}, \"colorscale\": [[0.0, \"#0d0887\"], [0.1111111111111111, \"#46039f\"], [0.2222222222222222, \"#7201a8\"], [0.3333333333333333, \"#9c179e\"], [0.4444444444444444, \"#bd3786\"], [0.5555555555555556, \"#d8576b\"], [0.6666666666666666, \"#ed7953\"], [0.7777777777777778, \"#fb9f3a\"], [0.8888888888888888, \"#fdca26\"], [1.0, \"#f0f921\"]], \"type\": \"histogram2d\"}], \"histogram2dcontour\": [{\"colorbar\": {\"outlinewidth\": 0, \"ticks\": \"\"}, \"colorscale\": [[0.0, \"#0d0887\"], [0.1111111111111111, \"#46039f\"], [0.2222222222222222, \"#7201a8\"], [0.3333333333333333, \"#9c179e\"], [0.4444444444444444, \"#bd3786\"], [0.5555555555555556, \"#d8576b\"], [0.6666666666666666, \"#ed7953\"], [0.7777777777777778, \"#fb9f3a\"], [0.8888888888888888, \"#fdca26\"], [1.0, \"#f0f921\"]], \"type\": \"histogram2dcontour\"}], \"mesh3d\": [{\"colorbar\": {\"outlinewidth\": 0, \"ticks\": \"\"}, \"type\": \"mesh3d\"}], \"parcoords\": [{\"line\": {\"colorbar\": {\"outlinewidth\": 0, \"ticks\": \"\"}}, \"type\": \"parcoords\"}], \"pie\": [{\"automargin\": true, \"type\": \"pie\"}], \"scatter\": [{\"marker\": {\"colorbar\": {\"outlinewidth\": 0, \"ticks\": \"\"}}, \"type\": \"scatter\"}], \"scatter3d\": [{\"line\": {\"colorbar\": {\"outlinewidth\": 0, \"ticks\": \"\"}}, \"marker\": {\"colorbar\": {\"outlinewidth\": 0, \"ticks\": \"\"}}, \"type\": \"scatter3d\"}], \"scattercarpet\": [{\"marker\": {\"colorbar\": {\"outlinewidth\": 0, \"ticks\": \"\"}}, \"type\": \"scattercarpet\"}], \"scattergeo\": [{\"marker\": {\"colorbar\": {\"outlinewidth\": 0, \"ticks\": \"\"}}, \"type\": \"scattergeo\"}], \"scattergl\": [{\"marker\": {\"colorbar\": {\"outlinewidth\": 0, \"ticks\": \"\"}}, \"type\": \"scattergl\"}], \"scattermapbox\": [{\"marker\": {\"colorbar\": {\"outlinewidth\": 0, \"ticks\": \"\"}}, \"type\": \"scattermapbox\"}], \"scatterpolar\": [{\"marker\": {\"colorbar\": {\"outlinewidth\": 0, \"ticks\": \"\"}}, \"type\": \"scatterpolar\"}], \"scatterpolargl\": [{\"marker\": {\"colorbar\": {\"outlinewidth\": 0, \"ticks\": \"\"}}, \"type\": \"scatterpolargl\"}], \"scatterternary\": [{\"marker\": {\"colorbar\": {\"outlinewidth\": 0, \"ticks\": \"\"}}, \"type\": \"scatterternary\"}], \"surface\": [{\"colorbar\": {\"outlinewidth\": 0, \"ticks\": \"\"}, \"colorscale\": [[0.0, \"#0d0887\"], [0.1111111111111111, \"#46039f\"], [0.2222222222222222, \"#7201a8\"], [0.3333333333333333, \"#9c179e\"], [0.4444444444444444, \"#bd3786\"], [0.5555555555555556, \"#d8576b\"], [0.6666666666666666, \"#ed7953\"], [0.7777777777777778, \"#fb9f3a\"], [0.8888888888888888, \"#fdca26\"], [1.0, \"#f0f921\"]], \"type\": \"surface\"}], \"table\": [{\"cells\": {\"fill\": {\"color\": \"#EBF0F8\"}, \"line\": {\"color\": \"white\"}}, \"header\": {\"fill\": {\"color\": \"#C8D4E3\"}, \"line\": {\"color\": \"white\"}}, \"type\": \"table\"}]}, \"layout\": {\"annotationdefaults\": {\"arrowcolor\": \"#2a3f5f\", \"arrowhead\": 0, \"arrowwidth\": 1}, \"coloraxis\": {\"colorbar\": {\"outlinewidth\": 0, \"ticks\": \"\"}}, \"colorscale\": {\"diverging\": [[0, \"#8e0152\"], [0.1, \"#c51b7d\"], [0.2, \"#de77ae\"], [0.3, \"#f1b6da\"], [0.4, \"#fde0ef\"], [0.5, \"#f7f7f7\"], [0.6, \"#e6f5d0\"], [0.7, \"#b8e186\"], [0.8, \"#7fbc41\"], [0.9, \"#4d9221\"], [1, \"#276419\"]], \"sequential\": [[0.0, \"#0d0887\"], [0.1111111111111111, \"#46039f\"], [0.2222222222222222, \"#7201a8\"], [0.3333333333333333, \"#9c179e\"], [0.4444444444444444, \"#bd3786\"], [0.5555555555555556, \"#d8576b\"], [0.6666666666666666, \"#ed7953\"], [0.7777777777777778, \"#fb9f3a\"], [0.8888888888888888, \"#fdca26\"], [1.0, \"#f0f921\"]], \"sequentialminus\": [[0.0, \"#0d0887\"], [0.1111111111111111, \"#46039f\"], [0.2222222222222222, \"#7201a8\"], [0.3333333333333333, \"#9c179e\"], [0.4444444444444444, \"#bd3786\"], [0.5555555555555556, \"#d8576b\"], [0.6666666666666666, \"#ed7953\"], [0.7777777777777778, \"#fb9f3a\"], [0.8888888888888888, \"#fdca26\"], [1.0, \"#f0f921\"]]}, \"colorway\": [\"#636efa\", \"#EF553B\", \"#00cc96\", \"#ab63fa\", \"#FFA15A\", \"#19d3f3\", \"#FF6692\", \"#B6E880\", \"#FF97FF\", \"#FECB52\"], \"font\": {\"color\": \"#2a3f5f\"}, \"geo\": {\"bgcolor\": \"white\", \"lakecolor\": \"white\", \"landcolor\": \"#E5ECF6\", \"showlakes\": true, \"showland\": true, \"subunitcolor\": \"white\"}, \"hoverlabel\": {\"align\": \"left\"}, \"hovermode\": \"closest\", \"mapbox\": {\"style\": \"light\"}, \"paper_bgcolor\": \"white\", \"plot_bgcolor\": \"#E5ECF6\", \"polar\": {\"angularaxis\": {\"gridcolor\": \"white\", \"linecolor\": \"white\", \"ticks\": \"\"}, \"bgcolor\": \"#E5ECF6\", \"radialaxis\": {\"gridcolor\": \"white\", \"linecolor\": \"white\", \"ticks\": \"\"}}, \"scene\": {\"xaxis\": {\"backgroundcolor\": \"#E5ECF6\", \"gridcolor\": \"white\", \"gridwidth\": 2, \"linecolor\": \"white\", \"showbackground\": true, \"ticks\": \"\", \"zerolinecolor\": \"white\"}, \"yaxis\": {\"backgroundcolor\": \"#E5ECF6\", \"gridcolor\": \"white\", \"gridwidth\": 2, \"linecolor\": \"white\", \"showbackground\": true, \"ticks\": \"\", \"zerolinecolor\": \"white\"}, \"zaxis\": {\"backgroundcolor\": \"#E5ECF6\", \"gridcolor\": \"white\", \"gridwidth\": 2, \"linecolor\": \"white\", \"showbackground\": true, \"ticks\": \"\", \"zerolinecolor\": \"white\"}}, \"shapedefaults\": {\"line\": {\"color\": \"#2a3f5f\"}}, \"ternary\": {\"aaxis\": {\"gridcolor\": \"white\", \"linecolor\": \"white\", \"ticks\": \"\"}, \"baxis\": {\"gridcolor\": \"white\", \"linecolor\": \"white\", \"ticks\": \"\"}, \"bgcolor\": \"#E5ECF6\", \"caxis\": {\"gridcolor\": \"white\", \"linecolor\": \"white\", \"ticks\": \"\"}}, \"title\": {\"x\": 0.05}, \"xaxis\": {\"automargin\": true, \"gridcolor\": \"white\", \"linecolor\": \"white\", \"ticks\": \"\", \"title\": {\"standoff\": 15}, \"zerolinecolor\": \"white\", \"zerolinewidth\": 2}, \"yaxis\": {\"automargin\": true, \"gridcolor\": \"white\", \"linecolor\": \"white\", \"ticks\": \"\", \"title\": {\"standoff\": 15}, \"zerolinecolor\": \"white\", \"zerolinewidth\": 2}}}},\n",
       "                        {\"responsive\": true}\n",
       "                    ).then(function(){\n",
       "                            \n",
       "var gd = document.getElementById('dbbe26d2-9d78-4d9f-9cb6-8f5f6feb3224');\n",
       "var x = new MutationObserver(function (mutations, observer) {{\n",
       "        var display = window.getComputedStyle(gd).display;\n",
       "        if (!display || display === 'none') {{\n",
       "            console.log([gd, 'removed!']);\n",
       "            Plotly.purge(gd);\n",
       "            observer.disconnect();\n",
       "        }}\n",
       "}});\n",
       "\n",
       "// Listen for the removal of the full notebook cells\n",
       "var notebookContainer = gd.closest('#notebook-container');\n",
       "if (notebookContainer) {{\n",
       "    x.observe(notebookContainer, {childList: true});\n",
       "}}\n",
       "\n",
       "// Listen for the clearing of the current output cell\n",
       "var outputEl = gd.closest('.output');\n",
       "if (outputEl) {{\n",
       "    x.observe(outputEl, {childList: true});\n",
       "}}\n",
       "\n",
       "                        })\n",
       "                };\n",
       "                });\n",
       "            </script>\n",
       "        </div>"
      ]
     },
     "metadata": {},
     "output_type": "display_data"
    }
   ],
   "source": [
    "fig = px.scatter_matrix(edf,\n",
    "    dimensions=[\"Price\", \"Reviews_Count\", \"Hearts\"],\n",
    "    color=\"Allure\", color_continuous_scale=px.colors.diverging.Picnic)\n",
    "fig.show()"
   ]
  },
  {
   "cell_type": "code",
   "execution_count": null,
   "metadata": {},
   "outputs": [],
   "source": []
  }
 ],
 "metadata": {
  "kernelspec": {
   "display_name": "Python 3",
   "language": "python",
   "name": "python3"
  },
  "language_info": {
   "codemirror_mode": {
    "name": "ipython",
    "version": 3
   },
   "file_extension": ".py",
   "mimetype": "text/x-python",
   "name": "python",
   "nbconvert_exporter": "python",
   "pygments_lexer": "ipython3",
   "version": "3.7.4"
  }
 },
 "nbformat": 4,
 "nbformat_minor": 2
}
