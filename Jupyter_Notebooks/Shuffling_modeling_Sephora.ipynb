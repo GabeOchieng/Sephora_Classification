{
 "cells": [
  {
   "cell_type": "code",
   "execution_count": 1,
   "metadata": {},
   "outputs": [],
   "source": [
    "import pandas as pd\n",
    "import seaborn as sns\n",
    "import matplotlib.pyplot as plt\n",
    "%matplotlib inline\n",
    "import numpy as np\n",
    "import statsmodels.api as sm\n",
    "from statsmodels.formula.api import ols\n",
    "from scipy.stats import zscore\n",
    "import sklearn\n",
    "import seaborn as sns\n",
    "import warnings\n",
    "warnings.filterwarnings('ignore')\n",
    "from sklearn.model_selection import train_test_split \n",
    "from sklearn.linear_model import LogisticRegression\n",
    "from sklearn import metrics\n",
    "from sklearn.metrics import confusion_matrix\n",
    "import imblearn\n",
    "from xgboost import XGBClassifier\n",
    "from imblearn.under_sampling import RandomUnderSampler\n",
    "from imblearn.over_sampling import RandomOverSampler\n",
    "from imblearn.under_sampling import TomekLinks\n",
    "from imblearn.combine import SMOTETomek\n",
    "from sklearn.tree import DecisionTreeClassifier\n",
    "from imblearn.over_sampling import SMOTE\n",
    "from sklearn.metrics import classification_report\n",
    "from sklearn.preprocessing import StandardScaler\n",
    "from sklearn.metrics import accuracy_score\n",
    "from sklearn.model_selection import GridSearchCV\n",
    "from sklearn.naive_bayes import GaussianNB\n",
    "from sklearn.utils import shuffle"
   ]
  },
  {
   "cell_type": "code",
   "execution_count": 20,
   "metadata": {},
   "outputs": [],
   "source": [
    "plt.rcParams[\"figure.figsize\"] = [10,5]"
   ]
  },
  {
   "cell_type": "markdown",
   "metadata": {},
   "source": [
    "Since manually shuffling the rows significantly improved the performance of my model, I will do it again to figure out whether or not it will improve everything again. I will take my raw data as my baseline."
   ]
  },
  {
   "cell_type": "markdown",
   "metadata": {},
   "source": [
    "# XGBoost and Naive Bayes on data-as-is"
   ]
  },
  {
   "cell_type": "code",
   "execution_count": 61,
   "metadata": {
    "scrolled": true
   },
   "outputs": [
    {
     "data": {
      "text/html": [
       "<div>\n",
       "<style scoped>\n",
       "    .dataframe tbody tr th:only-of-type {\n",
       "        vertical-align: middle;\n",
       "    }\n",
       "\n",
       "    .dataframe tbody tr th {\n",
       "        vertical-align: top;\n",
       "    }\n",
       "\n",
       "    .dataframe thead th {\n",
       "        text-align: right;\n",
       "    }\n",
       "</style>\n",
       "<table border=\"1\" class=\"dataframe\">\n",
       "  <thead>\n",
       "    <tr style=\"text-align: right;\">\n",
       "      <th></th>\n",
       "      <th>Brand</th>\n",
       "      <th>Product</th>\n",
       "      <th>Price</th>\n",
       "      <th>Reviews_Count</th>\n",
       "      <th>Hearts</th>\n",
       "      <th>Clean</th>\n",
       "      <th>Allure</th>\n",
       "    </tr>\n",
       "  </thead>\n",
       "  <tbody>\n",
       "    <tr>\n",
       "      <th>0</th>\n",
       "      <td>ARMANI BEAUTY</td>\n",
       "      <td>Lip Maestro Liquid Lipstick</td>\n",
       "      <td>38.0</td>\n",
       "      <td>1000.0</td>\n",
       "      <td>171.7</td>\n",
       "      <td>0</td>\n",
       "      <td>1</td>\n",
       "    </tr>\n",
       "    <tr>\n",
       "      <th>1</th>\n",
       "      <td>CHARLOTTE TILBURY</td>\n",
       "      <td>Matte Revolution Lipstick</td>\n",
       "      <td>34.0</td>\n",
       "      <td>719.0</td>\n",
       "      <td>135.3</td>\n",
       "      <td>0</td>\n",
       "      <td>0</td>\n",
       "    </tr>\n",
       "    <tr>\n",
       "      <th>2</th>\n",
       "      <td>TATCHA</td>\n",
       "      <td>The Kissu Lip Mask</td>\n",
       "      <td>28.0</td>\n",
       "      <td>262.0</td>\n",
       "      <td>41.3</td>\n",
       "      <td>1</td>\n",
       "      <td>0</td>\n",
       "    </tr>\n",
       "    <tr>\n",
       "      <th>3</th>\n",
       "      <td>GIVENCHY</td>\n",
       "      <td>Le Rouge Lipstick</td>\n",
       "      <td>38.0</td>\n",
       "      <td>640.0</td>\n",
       "      <td>111.2</td>\n",
       "      <td>0</td>\n",
       "      <td>0</td>\n",
       "    </tr>\n",
       "    <tr>\n",
       "      <th>4</th>\n",
       "      <td>NARS</td>\n",
       "      <td>Velvet Matte Lipstick Pencil</td>\n",
       "      <td>27.0</td>\n",
       "      <td>5000.0</td>\n",
       "      <td>350.4</td>\n",
       "      <td>0</td>\n",
       "      <td>0</td>\n",
       "    </tr>\n",
       "  </tbody>\n",
       "</table>\n",
       "</div>"
      ],
      "text/plain": [
       "               Brand                       Product  Price  Reviews_Count  \\\n",
       "0      ARMANI BEAUTY   Lip Maestro Liquid Lipstick   38.0         1000.0   \n",
       "1  CHARLOTTE TILBURY     Matte Revolution Lipstick   34.0          719.0   \n",
       "2             TATCHA            The Kissu Lip Mask   28.0          262.0   \n",
       "3           GIVENCHY             Le Rouge Lipstick   38.0          640.0   \n",
       "4               NARS  Velvet Matte Lipstick Pencil   27.0         5000.0   \n",
       "\n",
       "   Hearts  Clean  Allure  \n",
       "0   171.7      0       1  \n",
       "1   135.3      0       0  \n",
       "2    41.3      1       0  \n",
       "3   111.2      0       0  \n",
       "4   350.4      0       0  "
      ]
     },
     "execution_count": 61,
     "metadata": {},
     "output_type": "execute_result"
    }
   ],
   "source": [
    "df = pd.read_csv('/Users/agorina/Desktop/Flatiron/Sephora_Classification/Data/True_Final_Sephora.csv')\n",
    "df.head()"
   ]
  },
  {
   "cell_type": "code",
   "execution_count": 3,
   "metadata": {},
   "outputs": [],
   "source": [
    "X = df[['Price', 'Reviews_Count', 'Hearts', 'Clean']]\n",
    "y = df['Allure']"
   ]
  },
  {
   "cell_type": "code",
   "execution_count": 4,
   "metadata": {},
   "outputs": [],
   "source": [
    "X_train, X_test, y_train, y_test = train_test_split(X, y, random_state=42)"
   ]
  },
  {
   "cell_type": "code",
   "execution_count": 6,
   "metadata": {},
   "outputs": [
    {
     "name": "stdout",
     "output_type": "stream",
     "text": [
      "Training Accuracy: 95.87%\n",
      "Validation accuracy: 96.6%\n"
     ]
    }
   ],
   "source": [
    "clf = XGBClassifier()\n",
    "clf.fit(X, y)\n",
    "\n",
    "training_preds = clf.predict(X_train)\n",
    "test_preds = clf.predict(X_test)\n",
    "\n",
    "training_accuracy = accuracy_score(y_train, training_preds)\n",
    "test_accuracy = accuracy_score(y_test, test_preds)\n",
    "\n",
    "print('Training Accuracy: {:.4}%'.format(training_accuracy * 100))\n",
    "print('Validation accuracy: {:.4}%'.format(test_accuracy * 100))"
   ]
  },
  {
   "cell_type": "code",
   "execution_count": 7,
   "metadata": {},
   "outputs": [
    {
     "name": "stdout",
     "output_type": "stream",
     "text": [
      "              precision    recall  f1-score   support\n",
      "\n",
      "           0       0.97      1.00      0.98       482\n",
      "           1       1.00      0.06      0.11        18\n",
      "\n",
      "    accuracy                           0.97       500\n",
      "   macro avg       0.98      0.53      0.54       500\n",
      "weighted avg       0.97      0.97      0.95       500\n",
      "\n"
     ]
    }
   ],
   "source": [
    "print(classification_report(y_test, test_preds))"
   ]
  },
  {
   "cell_type": "code",
   "execution_count": 9,
   "metadata": {},
   "outputs": [
    {
     "name": "stdout",
     "output_type": "stream",
     "text": [
      "[[482   0]\n",
      " [ 17   1]]\n"
     ]
    }
   ],
   "source": [
    "print(metrics.confusion_matrix(y_test, test_preds))"
   ]
  },
  {
   "cell_type": "code",
   "execution_count": 10,
   "metadata": {},
   "outputs": [
    {
     "name": "stdout",
     "output_type": "stream",
     "text": [
      "Number of mislabeled points out of a total 500 points : 37\n"
     ]
    }
   ],
   "source": [
    "gnb = GaussianNB()\n",
    "y_pred = gnb.fit(X_train, y_train).predict(X_test)\n",
    "print(\"Number of mislabeled points out of a total %d points : %d\" \n",
    "      % (X_test.shape[0], (y_test != y_pred).sum()))"
   ]
  },
  {
   "cell_type": "markdown",
   "metadata": {},
   "source": [
    "Bad model! Just assumes that everything is 0, ignoring the underrepresented class. Bad, bad, naughty model!"
   ]
  },
  {
   "cell_type": "markdown",
   "metadata": {},
   "source": [
    "# Shuffling"
   ]
  },
  {
   "cell_type": "code",
   "execution_count": 11,
   "metadata": {},
   "outputs": [],
   "source": [
    "#split original data into two parts: winners and losers\n",
    "df_lose = df[df['Allure'] == 0]\n",
    "df_win = df[df['Allure'] == 1]"
   ]
  },
  {
   "cell_type": "code",
   "execution_count": 12,
   "metadata": {},
   "outputs": [],
   "source": [
    "#shuffle the rows of the losing df\n",
    "df_lose = shuffle(df_lose)"
   ]
  },
  {
   "cell_type": "code",
   "execution_count": 14,
   "metadata": {},
   "outputs": [],
   "source": [
    "#crop the losers df so it matches the shape of the winning df\n",
    "df_lose_81 = df_lose[:81]"
   ]
  },
  {
   "cell_type": "code",
   "execution_count": 15,
   "metadata": {},
   "outputs": [
    {
     "data": {
      "text/html": [
       "<div>\n",
       "<style scoped>\n",
       "    .dataframe tbody tr th:only-of-type {\n",
       "        vertical-align: middle;\n",
       "    }\n",
       "\n",
       "    .dataframe tbody tr th {\n",
       "        vertical-align: top;\n",
       "    }\n",
       "\n",
       "    .dataframe thead th {\n",
       "        text-align: right;\n",
       "    }\n",
       "</style>\n",
       "<table border=\"1\" class=\"dataframe\">\n",
       "  <thead>\n",
       "    <tr style=\"text-align: right;\">\n",
       "      <th></th>\n",
       "      <th>Brand</th>\n",
       "      <th>Product</th>\n",
       "      <th>Price</th>\n",
       "      <th>Reviews_Count</th>\n",
       "      <th>Hearts</th>\n",
       "      <th>Clean</th>\n",
       "      <th>Allure</th>\n",
       "    </tr>\n",
       "  </thead>\n",
       "  <tbody>\n",
       "    <tr>\n",
       "      <th>131</th>\n",
       "      <td>KEVYN AUCOIN</td>\n",
       "      <td>The Neo-Blush</td>\n",
       "      <td>38.0</td>\n",
       "      <td>40.0</td>\n",
       "      <td>12.9</td>\n",
       "      <td>0</td>\n",
       "      <td>0</td>\n",
       "    </tr>\n",
       "    <tr>\n",
       "      <th>126</th>\n",
       "      <td>GLAMGLOW</td>\n",
       "      <td>GLOWLACE™ Radiance-Boosting Hydration Sheet Mask</td>\n",
       "      <td>10.0</td>\n",
       "      <td>11.0</td>\n",
       "      <td>2.8</td>\n",
       "      <td>0</td>\n",
       "      <td>0</td>\n",
       "    </tr>\n",
       "    <tr>\n",
       "      <th>137</th>\n",
       "      <td>HUDA BEAUTY</td>\n",
       "      <td>Tantour Contour &amp; Bronzer Cream</td>\n",
       "      <td>30.0</td>\n",
       "      <td>236.0</td>\n",
       "      <td>29.2</td>\n",
       "      <td>0</td>\n",
       "      <td>0</td>\n",
       "    </tr>\n",
       "    <tr>\n",
       "      <th>118</th>\n",
       "      <td>FENTY BEAUTY BY RIHANNA</td>\n",
       "      <td>Match Stix Matte Skinstick</td>\n",
       "      <td>25.0</td>\n",
       "      <td>1000.0</td>\n",
       "      <td>156000.0</td>\n",
       "      <td>0</td>\n",
       "      <td>0</td>\n",
       "    </tr>\n",
       "    <tr>\n",
       "      <th>139</th>\n",
       "      <td>LANEIGE</td>\n",
       "      <td>Water Bank Hydro Essence</td>\n",
       "      <td>39.0</td>\n",
       "      <td>399.0</td>\n",
       "      <td>6.4</td>\n",
       "      <td>0</td>\n",
       "      <td>0</td>\n",
       "    </tr>\n",
       "  </tbody>\n",
       "</table>\n",
       "</div>"
      ],
      "text/plain": [
       "                       Brand  \\\n",
       "131             KEVYN AUCOIN   \n",
       "126                 GLAMGLOW   \n",
       "137              HUDA BEAUTY   \n",
       "118  FENTY BEAUTY BY RIHANNA   \n",
       "139                  LANEIGE   \n",
       "\n",
       "                                              Product  Price  Reviews_Count  \\\n",
       "131                                     The Neo-Blush   38.0           40.0   \n",
       "126  GLOWLACE™ Radiance-Boosting Hydration Sheet Mask   10.0           11.0   \n",
       "137                   Tantour Contour & Bronzer Cream   30.0          236.0   \n",
       "118                        Match Stix Matte Skinstick   25.0         1000.0   \n",
       "139                          Water Bank Hydro Essence   39.0          399.0   \n",
       "\n",
       "       Hearts  Clean  Allure  \n",
       "131      12.9      0       0  \n",
       "126       2.8      0       0  \n",
       "137      29.2      0       0  \n",
       "118  156000.0      0       0  \n",
       "139       6.4      0       0  "
      ]
     },
     "execution_count": 15,
     "metadata": {},
     "output_type": "execute_result"
    }
   ],
   "source": [
    "#put two df together so we get a df of two equally represented classes\n",
    "twodf = [df_win, df_lose_81]\n",
    "edf = pd.concat(twodf, ignore_index=True)\n",
    "\n",
    "#shuffle them again!\n",
    "edf = shuffle(edf)\n",
    "edf.head()"
   ]
  },
  {
   "cell_type": "code",
   "execution_count": 17,
   "metadata": {},
   "outputs": [
    {
     "data": {
      "text/plain": [
       "1    81\n",
       "0    81\n",
       "Name: Allure, dtype: int64"
      ]
     },
     "execution_count": 17,
     "metadata": {},
     "output_type": "execute_result"
    }
   ],
   "source": [
    "edf.Allure.value_counts()\n",
    "#see, equally represented"
   ]
  },
  {
   "cell_type": "code",
   "execution_count": 34,
   "metadata": {},
   "outputs": [
    {
     "data": {
      "text/plain": [
       "(162, 7)"
      ]
     },
     "execution_count": 34,
     "metadata": {},
     "output_type": "execute_result"
    }
   ],
   "source": [
    "edf.shape"
   ]
  },
  {
   "cell_type": "code",
   "execution_count": 18,
   "metadata": {},
   "outputs": [
    {
     "data": {
      "text/html": [
       "<div>\n",
       "<style scoped>\n",
       "    .dataframe tbody tr th:only-of-type {\n",
       "        vertical-align: middle;\n",
       "    }\n",
       "\n",
       "    .dataframe tbody tr th {\n",
       "        vertical-align: top;\n",
       "    }\n",
       "\n",
       "    .dataframe thead tr th {\n",
       "        text-align: left;\n",
       "    }\n",
       "\n",
       "    .dataframe thead tr:last-of-type th {\n",
       "        text-align: right;\n",
       "    }\n",
       "</style>\n",
       "<table border=\"1\" class=\"dataframe\">\n",
       "  <thead>\n",
       "    <tr>\n",
       "      <th></th>\n",
       "      <th colspan=\"2\" halign=\"left\">Price</th>\n",
       "      <th colspan=\"2\" halign=\"left\">Reviews_Count</th>\n",
       "      <th colspan=\"2\" halign=\"left\">Hearts</th>\n",
       "      <th colspan=\"2\" halign=\"left\">Clean</th>\n",
       "    </tr>\n",
       "    <tr>\n",
       "      <th></th>\n",
       "      <th>mean</th>\n",
       "      <th>std</th>\n",
       "      <th>mean</th>\n",
       "      <th>std</th>\n",
       "      <th>mean</th>\n",
       "      <th>std</th>\n",
       "      <th>mean</th>\n",
       "      <th>std</th>\n",
       "    </tr>\n",
       "    <tr>\n",
       "      <th>Allure</th>\n",
       "      <th></th>\n",
       "      <th></th>\n",
       "      <th></th>\n",
       "      <th></th>\n",
       "      <th></th>\n",
       "      <th></th>\n",
       "      <th></th>\n",
       "      <th></th>\n",
       "    </tr>\n",
       "  </thead>\n",
       "  <tbody>\n",
       "    <tr>\n",
       "      <th>0</th>\n",
       "      <td>49.802346</td>\n",
       "      <td>54.131730</td>\n",
       "      <td>618.975309</td>\n",
       "      <td>1748.352624</td>\n",
       "      <td>4123.671605</td>\n",
       "      <td>18978.350124</td>\n",
       "      <td>0.160494</td>\n",
       "      <td>0.369350</td>\n",
       "    </tr>\n",
       "    <tr>\n",
       "      <th>1</th>\n",
       "      <td>62.059136</td>\n",
       "      <td>85.578456</td>\n",
       "      <td>1260.061728</td>\n",
       "      <td>2669.376066</td>\n",
       "      <td>10866.644444</td>\n",
       "      <td>72255.936525</td>\n",
       "      <td>0.135802</td>\n",
       "      <td>0.344713</td>\n",
       "    </tr>\n",
       "  </tbody>\n",
       "</table>\n",
       "</div>"
      ],
      "text/plain": [
       "            Price            Reviews_Count                     Hearts  \\\n",
       "             mean        std          mean          std          mean   \n",
       "Allure                                                                  \n",
       "0       49.802346  54.131730    618.975309  1748.352624   4123.671605   \n",
       "1       62.059136  85.578456   1260.061728  2669.376066  10866.644444   \n",
       "\n",
       "                         Clean            \n",
       "                 std      mean       std  \n",
       "Allure                                    \n",
       "0       18978.350124  0.160494  0.369350  \n",
       "1       72255.936525  0.135802  0.344713  "
      ]
     },
     "execution_count": 18,
     "metadata": {},
     "output_type": "execute_result"
    }
   ],
   "source": [
    "#see how the classes are different in terms of varience and central tendency\n",
    "aggr = edf.groupby('Allure').agg(['mean', 'std'])\n",
    "aggr"
   ]
  },
  {
   "cell_type": "code",
   "execution_count": 21,
   "metadata": {},
   "outputs": [
    {
     "data": {
      "text/plain": [
       "<matplotlib.axes._subplots.AxesSubplot at 0x117324860>"
      ]
     },
     "execution_count": 21,
     "metadata": {},
     "output_type": "execute_result"
    },
    {
     "data": {
      "image/png": "[encoded data removed]",
      "text/plain": [
       "<Figure size 720x360 with 1 Axes>"
      ]
     },
     "metadata": {},
     "output_type": "display_data"
    }
   ],
   "source": [
    "aggr.plot.bar()"
   ]
  },
  {
   "cell_type": "code",
   "execution_count": 35,
   "metadata": {},
   "outputs": [],
   "source": [
    "#try XGBoost!\n",
    "Xsh = edf[['Price', 'Reviews_Count', 'Hearts', 'Clean']]\n",
    "ysh = edf['Allure']"
   ]
  },
  {
   "cell_type": "code",
   "execution_count": 36,
   "metadata": {},
   "outputs": [],
   "source": [
    "Xsh_train, Xsh_test, ysh_train, ysh_test = train_test_split(Xsh, ysh, test_size=0.2, random_state=1)"
   ]
  },
  {
   "cell_type": "code",
   "execution_count": 50,
   "metadata": {},
   "outputs": [
    {
     "name": "stdout",
     "output_type": "stream",
     "text": [
      "Training Accuracy: 89.92%\n",
      "Validation accuracy: 90.91%\n"
     ]
    }
   ],
   "source": [
    "clf = XGBClassifier()\n",
    "clf.fit(Xsh, ysh)\n",
    "\n",
    "training_preds_ = clf.predict(Xsh_train)\n",
    "test_preds_ = clf.predict(Xsh_test)\n",
    "\n",
    "training_accuracy_ = accuracy_score(ysh_train, training_preds_)\n",
    "test_accuracy_ = accuracy_score(ysh_test, test_preds_)\n",
    "\n",
    "print('Training Accuracy: {:.4}%'.format(training_accuracy_ * 100))\n",
    "print('Validation accuracy: {:.4}%'.format(test_accuracy_ * 100))"
   ]
  },
  {
   "cell_type": "code",
   "execution_count": 51,
   "metadata": {},
   "outputs": [
    {
     "name": "stdout",
     "output_type": "stream",
     "text": [
      "              precision    recall  f1-score   support\n",
      "\n",
      "           0       0.93      0.88      0.90        16\n",
      "           1       0.89      0.94      0.91        17\n",
      "\n",
      "    accuracy                           0.91        33\n",
      "   macro avg       0.91      0.91      0.91        33\n",
      "weighted avg       0.91      0.91      0.91        33\n",
      "\n"
     ]
    }
   ],
   "source": [
    "print(classification_report(ysh_test, test_preds_))"
   ]
  },
  {
   "cell_type": "code",
   "execution_count": 52,
   "metadata": {},
   "outputs": [
    {
     "name": "stdout",
     "output_type": "stream",
     "text": [
      "[[14  2]\n",
      " [ 1 16]]\n"
     ]
    }
   ],
   "source": [
    "print(metrics.confusion_matrix(ysh_test, test_preds_))"
   ]
  },
  {
   "cell_type": "code",
   "execution_count": 40,
   "metadata": {},
   "outputs": [
    {
     "name": "stdout",
     "output_type": "stream",
     "text": [
      "Number of mislabeled points out of a total 33 points : 16\n"
     ]
    }
   ],
   "source": [
    "gnb = GaussianNB()\n",
    "ysh_pred = gnb.fit(Xsh_train, ysh_train).predict(Xsh_test)\n",
    "print(\"Number of mislabeled points out of a total %d points : %d\" \n",
    "      % (Xsh_test.shape[0], (ysh_test != ysh_pred).sum()))"
   ]
  },
  {
   "cell_type": "markdown",
   "metadata": {},
   "source": [
    "Unfortunateltly, Naive Bayes is not a good fit for my data."
   ]
  },
  {
   "cell_type": "markdown",
   "metadata": {},
   "source": [
    "DO it again!!"
   ]
  },
  {
   "cell_type": "code",
   "execution_count": 41,
   "metadata": {},
   "outputs": [
    {
     "data": {
      "text/html": [
       "<div>\n",
       "<style scoped>\n",
       "    .dataframe tbody tr th:only-of-type {\n",
       "        vertical-align: middle;\n",
       "    }\n",
       "\n",
       "    .dataframe tbody tr th {\n",
       "        vertical-align: top;\n",
       "    }\n",
       "\n",
       "    .dataframe thead th {\n",
       "        text-align: right;\n",
       "    }\n",
       "</style>\n",
       "<table border=\"1\" class=\"dataframe\">\n",
       "  <thead>\n",
       "    <tr style=\"text-align: right;\">\n",
       "      <th></th>\n",
       "      <th>Brand</th>\n",
       "      <th>Product</th>\n",
       "      <th>Price</th>\n",
       "      <th>Reviews_Count</th>\n",
       "      <th>Hearts</th>\n",
       "      <th>Clean</th>\n",
       "      <th>Allure</th>\n",
       "    </tr>\n",
       "  </thead>\n",
       "  <tbody>\n",
       "    <tr>\n",
       "      <th>0</th>\n",
       "      <td>ARMANI BEAUTY</td>\n",
       "      <td>Lip Maestro Liquid Lipstick</td>\n",
       "      <td>38.0</td>\n",
       "      <td>1000.0</td>\n",
       "      <td>171.7</td>\n",
       "      <td>0</td>\n",
       "      <td>1</td>\n",
       "    </tr>\n",
       "    <tr>\n",
       "      <th>1</th>\n",
       "      <td>CHARLOTTE TILBURY</td>\n",
       "      <td>Matte Revolution Lipstick</td>\n",
       "      <td>34.0</td>\n",
       "      <td>719.0</td>\n",
       "      <td>135.3</td>\n",
       "      <td>0</td>\n",
       "      <td>0</td>\n",
       "    </tr>\n",
       "    <tr>\n",
       "      <th>2</th>\n",
       "      <td>TATCHA</td>\n",
       "      <td>The Kissu Lip Mask</td>\n",
       "      <td>28.0</td>\n",
       "      <td>262.0</td>\n",
       "      <td>41.3</td>\n",
       "      <td>1</td>\n",
       "      <td>0</td>\n",
       "    </tr>\n",
       "    <tr>\n",
       "      <th>3</th>\n",
       "      <td>GIVENCHY</td>\n",
       "      <td>Le Rouge Lipstick</td>\n",
       "      <td>38.0</td>\n",
       "      <td>640.0</td>\n",
       "      <td>111.2</td>\n",
       "      <td>0</td>\n",
       "      <td>0</td>\n",
       "    </tr>\n",
       "    <tr>\n",
       "      <th>4</th>\n",
       "      <td>NARS</td>\n",
       "      <td>Velvet Matte Lipstick Pencil</td>\n",
       "      <td>27.0</td>\n",
       "      <td>5000.0</td>\n",
       "      <td>350.4</td>\n",
       "      <td>0</td>\n",
       "      <td>0</td>\n",
       "    </tr>\n",
       "  </tbody>\n",
       "</table>\n",
       "</div>"
      ],
      "text/plain": [
       "               Brand                       Product  Price  Reviews_Count  \\\n",
       "0      ARMANI BEAUTY   Lip Maestro Liquid Lipstick   38.0         1000.0   \n",
       "1  CHARLOTTE TILBURY     Matte Revolution Lipstick   34.0          719.0   \n",
       "2             TATCHA            The Kissu Lip Mask   28.0          262.0   \n",
       "3           GIVENCHY             Le Rouge Lipstick   38.0          640.0   \n",
       "4               NARS  Velvet Matte Lipstick Pencil   27.0         5000.0   \n",
       "\n",
       "   Hearts  Clean  Allure  \n",
       "0   171.7      0       1  \n",
       "1   135.3      0       0  \n",
       "2    41.3      1       0  \n",
       "3   111.2      0       0  \n",
       "4   350.4      0       0  "
      ]
     },
     "execution_count": 41,
     "metadata": {},
     "output_type": "execute_result"
    }
   ],
   "source": [
    "df.head()"
   ]
  },
  {
   "cell_type": "code",
   "execution_count": 42,
   "metadata": {},
   "outputs": [],
   "source": [
    "df_l = df[df['Allure'] == 0]\n",
    "df_w = df[df['Allure'] == 1]"
   ]
  },
  {
   "cell_type": "code",
   "execution_count": 43,
   "metadata": {},
   "outputs": [],
   "source": [
    "df_ls = shuffle(df_l)"
   ]
  },
  {
   "cell_type": "code",
   "execution_count": 44,
   "metadata": {},
   "outputs": [],
   "source": [
    "df_l_81 = df_l[:81]"
   ]
  },
  {
   "cell_type": "code",
   "execution_count": 45,
   "metadata": {},
   "outputs": [
    {
     "data": {
      "text/html": [
       "<div>\n",
       "<style scoped>\n",
       "    .dataframe tbody tr th:only-of-type {\n",
       "        vertical-align: middle;\n",
       "    }\n",
       "\n",
       "    .dataframe tbody tr th {\n",
       "        vertical-align: top;\n",
       "    }\n",
       "\n",
       "    .dataframe thead th {\n",
       "        text-align: right;\n",
       "    }\n",
       "</style>\n",
       "<table border=\"1\" class=\"dataframe\">\n",
       "  <thead>\n",
       "    <tr style=\"text-align: right;\">\n",
       "      <th></th>\n",
       "      <th>Brand</th>\n",
       "      <th>Product</th>\n",
       "      <th>Price</th>\n",
       "      <th>Reviews_Count</th>\n",
       "      <th>Hearts</th>\n",
       "      <th>Clean</th>\n",
       "      <th>Allure</th>\n",
       "    </tr>\n",
       "  </thead>\n",
       "  <tbody>\n",
       "    <tr>\n",
       "      <th>103</th>\n",
       "      <td>GUERLAIN</td>\n",
       "      <td>Rouge G Customizable Lipstick</td>\n",
       "      <td>33.0</td>\n",
       "      <td>155.0</td>\n",
       "      <td>38.8</td>\n",
       "      <td>0</td>\n",
       "      <td>0</td>\n",
       "    </tr>\n",
       "    <tr>\n",
       "      <th>58</th>\n",
       "      <td>ALTERNA HAIRCARE</td>\n",
       "      <td>CAVIAR Anti-Aging® Rapid Blowout Balm</td>\n",
       "      <td>30.0</td>\n",
       "      <td>185.0</td>\n",
       "      <td>1.7</td>\n",
       "      <td>0</td>\n",
       "      <td>1</td>\n",
       "    </tr>\n",
       "    <tr>\n",
       "      <th>86</th>\n",
       "      <td>GUCCI</td>\n",
       "      <td>Rouge à Lèvres Mat Matte Lipstick</td>\n",
       "      <td>42.0</td>\n",
       "      <td>19.0</td>\n",
       "      <td>6.5</td>\n",
       "      <td>0</td>\n",
       "      <td>0</td>\n",
       "    </tr>\n",
       "    <tr>\n",
       "      <th>52</th>\n",
       "      <td>TATA HARPER</td>\n",
       "      <td>Resurfacing AHA + BHA Serum</td>\n",
       "      <td>88.0</td>\n",
       "      <td>144.0</td>\n",
       "      <td>13.4</td>\n",
       "      <td>0</td>\n",
       "      <td>1</td>\n",
       "    </tr>\n",
       "    <tr>\n",
       "      <th>25</th>\n",
       "      <td>ARMANI BEAUTY</td>\n",
       "      <td>Power Fabric Longwear High Cover Foundation SP...</td>\n",
       "      <td>64.0</td>\n",
       "      <td>748.0</td>\n",
       "      <td>63.5</td>\n",
       "      <td>0</td>\n",
       "      <td>1</td>\n",
       "    </tr>\n",
       "  </tbody>\n",
       "</table>\n",
       "</div>"
      ],
      "text/plain": [
       "                Brand                                            Product  \\\n",
       "103          GUERLAIN                      Rouge G Customizable Lipstick   \n",
       "58   ALTERNA HAIRCARE              CAVIAR Anti-Aging® Rapid Blowout Balm   \n",
       "86              GUCCI                  Rouge à Lèvres Mat Matte Lipstick   \n",
       "52        TATA HARPER                        Resurfacing AHA + BHA Serum   \n",
       "25      ARMANI BEAUTY  Power Fabric Longwear High Cover Foundation SP...   \n",
       "\n",
       "     Price  Reviews_Count  Hearts  Clean  Allure  \n",
       "103   33.0          155.0    38.8      0       0  \n",
       "58    30.0          185.0     1.7      0       1  \n",
       "86    42.0           19.0     6.5      0       0  \n",
       "52    88.0          144.0    13.4      0       1  \n",
       "25    64.0          748.0    63.5      0       1  "
      ]
     },
     "execution_count": 45,
     "metadata": {},
     "output_type": "execute_result"
    }
   ],
   "source": [
    "twodfs = [df_w, df_l_81]\n",
    "eqdf = pd.concat(twodfs, ignore_index=True)\n",
    "\n",
    "#shuffle them again!\n",
    "eqdfs = shuffle(eqdf)\n",
    "eqdfs.head()"
   ]
  },
  {
   "cell_type": "code",
   "execution_count": 46,
   "metadata": {},
   "outputs": [],
   "source": [
    "Xs = eqdfs[['Price', 'Reviews_Count', 'Hearts', 'Clean']]\n",
    "ys = eqdfs['Allure']"
   ]
  },
  {
   "cell_type": "code",
   "execution_count": 48,
   "metadata": {},
   "outputs": [],
   "source": [
    "Xs_train, Xs_test, ys_train, ys_test = train_test_split(Xs, ys, test_size=0.3, random_state=1)"
   ]
  },
  {
   "cell_type": "code",
   "execution_count": 49,
   "metadata": {},
   "outputs": [
    {
     "name": "stdout",
     "output_type": "stream",
     "text": [
      "Training Accuracy: 90.27%\n",
      "Validation accuracy: 91.84%\n",
      "              precision    recall  f1-score   support\n",
      "\n",
      "           0       0.94      0.94      0.94        31\n",
      "           1       0.89      0.89      0.89        18\n",
      "\n",
      "    accuracy                           0.92        49\n",
      "   macro avg       0.91      0.91      0.91        49\n",
      "weighted avg       0.92      0.92      0.92        49\n",
      "\n",
      "[[29  2]\n",
      " [ 2 16]]\n"
     ]
    }
   ],
   "source": [
    "clf = XGBClassifier()\n",
    "clf.fit(Xs, ys)\n",
    "\n",
    "training_preds__ = clf.predict(Xs_train)\n",
    "test_preds__ = clf.predict(Xs_test)\n",
    "\n",
    "training_accuracy__ = accuracy_score(ys_train, training_preds__)\n",
    "test_accuracy__ = accuracy_score(ys_test, test_preds__)\n",
    "\n",
    "print('Training Accuracy: {:.4}%'.format(training_accuracy__ * 100))\n",
    "print('Validation accuracy: {:.4}%'.format(test_accuracy__ * 100))\n",
    "print(classification_report(ys_test, test_preds__))\n",
    "print(metrics.confusion_matrix(ys_test, test_preds__))"
   ]
  },
  {
   "cell_type": "markdown",
   "metadata": {},
   "source": [
    "As we can see, the model works very well on manually shuffled data. Recall went up and the main diagonal of the confusion matrix looks good, too."
   ]
  },
  {
   "cell_type": "markdown",
   "metadata": {},
   "source": [
    "# Visualizations of the equal-data"
   ]
  },
  {
   "cell_type": "code",
   "execution_count": 55,
   "metadata": {},
   "outputs": [
    {
     "name": "stdout",
     "output_type": "stream",
     "text": [
      "Target Variable\n",
      "Allure\n",
      "0    81\n",
      "1    81\n",
      "Name: Allure, dtype: int64\n"
     ]
    },
    {
     "data": {
      "image/png": "[encoded data removed]",
      "text/plain": [
       "<Figure size 720x360 with 1 Axes>"
      ]
     },
     "metadata": {},
     "output_type": "display_data"
    }
   ],
   "source": [
    "print('Target Variable')\n",
    "print(edf.groupby(['Allure']).Allure.count())\n",
    "\n",
    "# Target Variable Countplot\n",
    "sns.set_style('darkgrid')\n",
    "plt.figure(figsize = (10,5))\n",
    "sns.countplot(edf['Allure'], alpha =.80, palette= ['grey','red'])\n",
    "plt.title('Equally represented classes')\n",
    "plt.ylabel('# Products')\n",
    "plt.show()"
   ]
  },
  {
   "cell_type": "code",
   "execution_count": 57,
   "metadata": {},
   "outputs": [
    {
     "data": {
      "image/png": "[encoded data removed]",
      "text/plain": [
       "<Figure size 720x360 with 1 Axes>"
      ]
     },
     "metadata": {},
     "output_type": "display_data"
    }
   ],
   "source": [
    "cleanp = edf.groupby(['Clean','Allure']).Clean.count().unstack()\n",
    "p1 = cleanp.plot(kind = 'bar', stacked = False, \n",
    "                   title = 'Clean/Regular products, winners/non-winners', \n",
    "                   color = ['grey','red'], alpha = .70)\n",
    "p1.set_xlabel('Clean')\n",
    "p1.set_ylabel('# Prodicts')\n",
    "p1.legend(['Non-winners','Winners'])\n",
    "plt.show()"
   ]
  },
  {
   "cell_type": "code",
   "execution_count": 60,
   "metadata": {},
   "outputs": [
    {
     "data": {
      "image/png": "[encoded data removed]",
      "text/plain": [
       "<Figure size 1152x720 with 3 Axes>"
      ]
     },
     "metadata": {},
     "output_type": "display_data"
    }
   ],
   "source": [
    "sns.set_style('darkgrid')\n",
    "fig = plt.figure(figsize = (16,10))\n",
    "fig.subplots_adjust(hspace = .30)\n",
    "\n",
    "ax1 = fig.add_subplot(221)\n",
    "ax1.hist(edf[edf['Allure'] ==0].Price, bins = 25, label ='Non-winner', alpha = .50,edgecolor= 'black',color ='grey')\n",
    "ax1.hist(edf[edf['Allure']==1].Price, bins = 25, label = 'Winner', alpha = .50, edgecolor = 'black',color = 'red')\n",
    "ax1.set_title('Product Price: Winners vs Non-Winners')\n",
    "ax1.set_xlabel('Price')\n",
    "ax1.set_ylabel('# Products')\n",
    "ax1.legend(loc = 'upper right')\n",
    "\n",
    "ax2 = fig.add_subplot(223)\n",
    "ax2.hist(edf[edf['Allure']==0].Hearts, bins = 25, label = 'Non-winner', alpha = .50, edgecolor ='black', color = 'grey')\n",
    "ax2.hist(edf[edf['Allure']==1].Hearts, bins = 25, label = 'Winner', alpha = .50, edgecolor = 'black',color ='red')\n",
    "ax2.set_title('Number of hearts: Winners vs Non-Winners')\n",
    "ax2.set_xlabel('Hearts')\n",
    "ax2.set_ylabel('# Products')\n",
    "ax2.legend(loc = 'upper right')\n",
    "\n",
    "ax3 = fig.add_subplot(122)\n",
    "ax3.scatter(x = edf[edf['Allure']==0].Price, y = edf[edf['Allure']==0].Reviews_Count, alpha = .50, edgecolor= 'black',  c = 'grey', s= 75, label = 'Non-winners')\n",
    "ax3.scatter(x = edf[edf['Allure']==1].Price, y = edf[edf['Allure']==1].Reviews_Count, alpha = .50, edgecolors= 'black',  c = 'red', s= 75, label = 'Winners')\n",
    "ax3.set_xlabel('Price')\n",
    "ax3.set_ylabel('Number of Hearts')\n",
    "ax3.set_title('Prices vs Number of Hearts')\n",
    "ax3.legend()\n",
    "\n",
    "plt.show()"
   ]
  },
  {
   "cell_type": "code",
   "execution_count": null,
   "metadata": {},
   "outputs": [],
   "source": []
  }
 ],
 "metadata": {
  "kernelspec": {
   "display_name": "Python 3",
   "language": "python",
   "name": "python3"
  },
  "language_info": {
   "codemirror_mode": {
    "name": "ipython",
    "version": 3
   },
   "file_extension": ".py",
   "mimetype": "text/x-python",
   "name": "python",
   "nbconvert_exporter": "python",
   "pygments_lexer": "ipython3",
   "version": "3.6.5"
  }
 },
 "nbformat": 4,
 "nbformat_minor": 2
}
